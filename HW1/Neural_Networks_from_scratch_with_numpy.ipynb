{
  "cells": [
    {
      "cell_type": "markdown",
      "id": "5e5fd69e",
      "metadata": {
        "id": "5e5fd69e"
      },
      "source": [
        "# Neural Network (15 points)\n",
        "\n",
        "## Neural Network From Scratch With Numpy\n",
        "\n",
        "### HW1 @ DL Course, Dr. Soleymani\n",
        "\n",
        "*Full Name:* Mahdi Mansouri\n"
      ]
    },
    {
      "cell_type": "code",
      "execution_count": 1,
      "id": "8efb6140",
      "metadata": {
        "id": "8efb6140"
      },
      "outputs": [],
      "source": [
        "from utils.gradient_check import eval_numerical_gradient, eval_numerical_gradient_array\n",
        "from utils.data import get_MNIST_data, get_normalized_MNIST_data, get_california_housing_data, get_california_housing_normalized__data\n",
        "from builtins import range\n",
        "import numpy as np\n",
        "import matplotlib.pyplot as plt\n",
        "from utils.solver import *\n",
        "import pandas as pd\n",
        "from sklearn.datasets import fetch_california_housing\n",
        "\n",
        "\n",
        "\n",
        "%matplotlib inline\n",
        "plt.rcParams['figure.figsize'] = (10.0, 8.0) # set default size of plots\n",
        "plt.rcParams['image.cmap'] = 'gray'\n",
        "\n",
        "def rel_error(x, y):\n",
        "  \"\"\" returns relative error \"\"\"\n",
        "  return np.max(np.abs(x - y) / (np.maximum(1e-8, np.abs(x) + np.abs(y))))\n",
        "\n",
        "def print_mean_std(x,axis=0):\n",
        "    print(f\"  means: {x.mean(axis=axis)}\")\n",
        "    print(f\"  stds:  {x.std(axis=axis)}\\n\")"
      ]
    },
    {
      "cell_type": "markdown",
      "id": "57c3af9e",
      "metadata": {
        "id": "57c3af9e"
      },
      "source": [
        "# Fully-Connected Neural Nets\n",
        "In this exercise we will implement fully-connected networks using a modular approach. For each layer we will implement a `forward` and a `backward` function. The `forward` function will receive inputs, weights, and other parameters and will return both an output and a `cache` object storing data needed for the backward pass, like this:\n",
        "\n",
        "```python\n",
        "def layer_forward(x, w):\n",
        "  \"\"\" Receive inputs x and weights w \"\"\"\n",
        "  # Do some computations ...\n",
        "  z = # ... some intermediate value\n",
        "  # Do some more computations ...\n",
        "  out = # the output\n",
        "   \n",
        "  cache = (x, w, z, out) # Values we need to compute gradients\n",
        "   \n",
        "  return out, cache\n",
        "```\n",
        "\n",
        "The backward pass will receive upstream derivatives and the `cache` object, and will return gradients with respect to the inputs and weights, like this:\n",
        "\n",
        "```python\n",
        "def layer_backward(dout, cache):\n",
        "  \"\"\"\n",
        "  Receive dout (derivative of loss with respect to outputs) and cache,\n",
        "  and compute derivative with respect to inputs.\n",
        "  \"\"\"\n",
        "  # Unpack cache values\n",
        "  x, w, z, out = cache\n",
        "  \n",
        "  # Use values in cache to compute derivatives\n",
        "  dx = # Derivative of loss with respect to x\n",
        "  dw = # Derivative of loss with respect to w\n",
        "  \n",
        "  return dx, dw\n",
        "```\n",
        "\n",
        "After implementing a bunch of layers this way, we will be able to easily combine them to build classifiers with different architectures."
      ]
    },
    {
      "cell_type": "markdown",
      "id": "649895ab",
      "metadata": {
        "id": "649895ab"
      },
      "source": [
        "# Affine layer: forward\n",
        "Implement the `affine_forward` function."
      ]
    },
    {
      "cell_type": "code",
      "execution_count": null,
      "id": "03c584b4",
      "metadata": {
        "id": "03c584b4"
      },
      "outputs": [],
      "source": [
        "def affine_forward(x, w, b):\n",
        "    \"\"\"\n",
        "    Computes the forward pass for an affine (fully-connected) layer.\n",
        "\n",
        "    The input x has shape (N, d_1, ..., d_k) and contains a minibatch of N\n",
        "    examples, where each example x[i] has shape (d_1, ..., d_k). We will\n",
        "    reshape each input into a vector of dimension D = d_1 * ... * d_k, and\n",
        "    then transform it to an output vector of dimension M.\n",
        "\n",
        "    Inputs:\n",
        "    - x: A numpy array containing input data, of shape (N, d_1, ..., d_k)\n",
        "    - w: A numpy array of weights, of shape (D, M)\n",
        "    - b: A numpy array of biases, of shape (M,)\n",
        "\n",
        "    Returns a tuple of:\n",
        "    - out: output, of shape (N, M)\n",
        "    - cache: (x, w, b)\n",
        "    \"\"\"\n",
        "    ###########################################################################\n",
        "    # TODO: Implement the affine forward pass. Store the result in out. You   #\n",
        "    # will need to reshape the input into rows.                               #\n",
        "    ###########################################################################\n",
        "    x_vec = x.reshape(x.shape[0], -1)\n",
        "    out = x_vec @ w + b\n",
        "    cache = (x, w, b)\n",
        "    return out, cache\n"
      ]
    },
    {
      "cell_type": "markdown",
      "id": "acdd5827",
      "metadata": {
        "id": "acdd5827"
      },
      "source": [
        "You can test your implementaion by running the following:"
      ]
    },
    {
      "cell_type": "code",
      "execution_count": 3,
      "id": "80db2fe8",
      "metadata": {
        "colab": {
          "base_uri": "https://localhost:8080/"
        },
        "id": "80db2fe8",
        "outputId": "9821d5ed-40bf-4b7c-db0e-33b712b4e718"
      },
      "outputs": [
        {
          "name": "stdout",
          "output_type": "stream",
          "text": [
            "b is (3,) ,w is (120, 3) , x is (2, 4, 5, 6)\n",
            "Testing affine_forward function:\n",
            "difference:  9.769849468192957e-10\n"
          ]
        }
      ],
      "source": [
        "# Test the affine_forward function\n",
        "\n",
        "num_inputs = 2\n",
        "input_shape = (4, 5, 6)\n",
        "output_dim = 3\n",
        "\n",
        "input_size = num_inputs * np.prod(input_shape)\n",
        "weight_size = output_dim * np.prod(input_shape)\n",
        "\n",
        "x = np.linspace(-0.1, 0.5, num=input_size).reshape(num_inputs, *input_shape)\n",
        "w = np.linspace(-0.2, 0.3, num=weight_size).reshape(np.prod(input_shape), output_dim)\n",
        "b = np.linspace(-0.3, 0.1, num=output_dim)\n",
        "\n",
        "print(f\"b is {b.shape} ,w is {w.shape} , x is {x.shape}\")\n",
        "\n",
        "out, _ = affine_forward(x, w, b)\n",
        "correct_out = np.array([[ 1.49834967,  1.70660132,  1.91485297],\n",
        "                        [ 3.25553199,  3.5141327,   3.77273342]])\n",
        "\n",
        "\n",
        "# Compare your output with ours. The error should be around e-9 or less.\n",
        "print('Testing affine_forward function:')\n",
        "print('difference: ', rel_error(out, correct_out))"
      ]
    },
    {
      "cell_type": "markdown",
      "id": "8e64b312",
      "metadata": {
        "id": "8e64b312"
      },
      "source": [
        "# Affine layer: backward\n",
        "Now implement the `affine_backward` function and test your implementation using numeric gradient checking."
      ]
    },
    {
      "cell_type": "code",
      "execution_count": null,
      "id": "e61d5b9c",
      "metadata": {
        "id": "e61d5b9c"
      },
      "outputs": [],
      "source": [
        "def affine_backward(dout, cache):\n",
        "    \"\"\"\n",
        "    Computes the backward pass for an affine layer.\n",
        "\n",
        "    Inputs:\n",
        "    - dout: Upstream derivative, of shape (N, M)\n",
        "    - cache: Tuple of:\n",
        "      - x: Input data, of shape (N, d_1, ... d_k)\n",
        "      - w: Weights, of shape (D, M)\n",
        "      - b: Biases, of shape (M,)\n",
        "\n",
        "    Returns a tuple of:\n",
        "    - dx: Gradient with respect to x, of shape (N, d1, ..., d_k)\n",
        "    - dw: Gradient with respect to w, of shape (D, M)\n",
        "    - db: Gradient with respect to b, of shape (M,)\n",
        "    \"\"\"\n",
        "    ###########################################################################\n",
        "    # TODO: Implement the affine backward pass.                               #\n",
        "    ###########################################################################\n",
        "    x, w, b = cache\n",
        "    dx = (dout @ w.T).reshape(x.shape)\n",
        "    dw = x.reshape(x.shape[0], -1).T @ dout\n",
        "    db = dout.sum(axis=0)\n",
        "\n",
        "    return dx,dw,db"
      ]
    },
    {
      "cell_type": "code",
      "execution_count": 5,
      "id": "64de3af3",
      "metadata": {
        "colab": {
          "base_uri": "https://localhost:8080/"
        },
        "id": "64de3af3",
        "outputId": "49341001-0ea4-40cd-abef-922f260e930e",
        "scrolled": true
      },
      "outputs": [
        {
          "name": "stdout",
          "output_type": "stream",
          "text": [
            "Testing affine_backward function:\n",
            "dx error:  5.399100368651805e-11\n",
            "dw error:  9.904211865398145e-11\n",
            "db error:  2.4122867568119087e-11\n"
          ]
        }
      ],
      "source": [
        "# Test the affine_backward function\n",
        "np.random.seed(231)\n",
        "x = np.random.randn(10, 2, 3)\n",
        "w = np.random.randn(6, 5)\n",
        "b = np.random.randn(5)\n",
        "dout = np.random.randn(10, 5)\n",
        "\n",
        "dx_num = eval_numerical_gradient_array(lambda x: affine_forward(x, w, b)[0], x, dout)\n",
        "dw_num = eval_numerical_gradient_array(lambda w: affine_forward(x, w, b)[0], w, dout)\n",
        "db_num = eval_numerical_gradient_array(lambda b: affine_forward(x, w, b)[0], b, dout)\n",
        "\n",
        "_, cache = affine_forward(x, w, b)\n",
        "dx, dw, db = affine_backward(dout, cache)\n",
        "\n",
        "# The error should be around e-10 or less\n",
        "print('Testing affine_backward function:')\n",
        "print('dx error: ', rel_error(dx_num, dx))\n",
        "print('dw error: ', rel_error(dw_num, dw))\n",
        "print('db error: ', rel_error(db_num, db))"
      ]
    },
    {
      "cell_type": "markdown",
      "id": "af5910d2",
      "metadata": {
        "id": "af5910d2"
      },
      "source": [
        "# ReLU activation: forward\n",
        "Implement the forward pass for the ReLU activation function in the `relu_forward` function and test your implementation using numeric gradient checking."
      ]
    },
    {
      "cell_type": "code",
      "execution_count": null,
      "id": "c537098f",
      "metadata": {
        "id": "c537098f"
      },
      "outputs": [],
      "source": [
        "def relu_forward(x):\n",
        "    \"\"\"\n",
        "    Computes the forward pass for a layer of rectified linear units (ReLUs).\n",
        "\n",
        "    Input:\n",
        "    - x: Inputs, of any shape\n",
        "\n",
        "    Returns a tuple of:\n",
        "    - out: Output, of the same shape as x\n",
        "    - cache: x\n",
        "    \"\"\"\n",
        "    ###########################################################################\n",
        "    # TODO: Implement the ReLU forward pass.                                  #\n",
        "    ###########################################################################\n",
        "    cache = x\n",
        "    out = np.maximum(x,0)\n",
        "    return out, cache"
      ]
    },
    {
      "cell_type": "code",
      "execution_count": 7,
      "id": "4cc17aa4",
      "metadata": {
        "colab": {
          "base_uri": "https://localhost:8080/"
        },
        "id": "4cc17aa4",
        "outputId": "57141729-c3af-439b-c8df-b40477e65da2"
      },
      "outputs": [
        {
          "name": "stdout",
          "output_type": "stream",
          "text": [
            "Testing relu_forward function:\n",
            "difference:  4.999999798022158e-08\n"
          ]
        }
      ],
      "source": [
        "# Test the relu_forward function\n",
        "\n",
        "x = np.linspace(-0.5, 0.5, num=12).reshape(3, 4)\n",
        "\n",
        "out, _ = relu_forward(x)\n",
        "correct_out = np.array([[ 0.,          0.,          0.,          0.,        ],\n",
        "                        [ 0.,          0.,          0.04545455,  0.13636364,],\n",
        "                        [ 0.22727273,  0.31818182,  0.40909091,  0.5,       ]])\n",
        "\n",
        "# Compare your output with ours. The error should be on the order of e-8\n",
        "print('Testing relu_forward function:')\n",
        "print('difference: ', rel_error(out, correct_out))"
      ]
    },
    {
      "cell_type": "markdown",
      "id": "6171f37c",
      "metadata": {
        "id": "6171f37c"
      },
      "source": [
        "# ReLU activation: backward\n",
        "Now implement the backward pass for the ReLU activation function in the `relu_backward` function."
      ]
    },
    {
      "cell_type": "code",
      "execution_count": null,
      "id": "3187da88",
      "metadata": {
        "id": "3187da88"
      },
      "outputs": [],
      "source": [
        "def relu_backward(dout, cache):\n",
        "    \"\"\"\n",
        "    Computes the backward pass for a layer of rectified linear units (ReLUs).\n",
        "\n",
        "    Input:\n",
        "    - dout: Upstream derivatives, of any shape\n",
        "    - cache: Input x, of same shape as dout\n",
        "\n",
        "    Returns:\n",
        "    - dx: Gradient with respect to x\n",
        "    \"\"\"\n",
        "    ###########################################################################\n",
        "    # TODO: Implement the ReLU backward pass.                                 #\n",
        "    ###########################################################################\n",
        "\n",
        "    x = cache\n",
        "    dx = dout\n",
        "    dx[x < 0] = 0\n",
        "\n",
        "    return dx"
      ]
    },
    {
      "cell_type": "markdown",
      "id": "88966dd6",
      "metadata": {
        "id": "88966dd6"
      },
      "source": [
        "You can test your implementation using numeric gradient checking:"
      ]
    },
    {
      "cell_type": "code",
      "execution_count": 9,
      "id": "e81e30fd",
      "metadata": {
        "colab": {
          "base_uri": "https://localhost:8080/"
        },
        "id": "e81e30fd",
        "outputId": "aaf27378-e76a-46fb-feef-bb4e6fa3b542"
      },
      "outputs": [
        {
          "name": "stdout",
          "output_type": "stream",
          "text": [
            "Testing relu_backward function:\n",
            "dx error:  3.2756349136310288e-12\n"
          ]
        }
      ],
      "source": [
        "# Test the relu_backward function\n",
        "np.random.seed(231)\n",
        "x = np.random.randn(10, 10)\n",
        "dout = np.random.randn(*x.shape)\n",
        "\n",
        "dx_num = eval_numerical_gradient_array(lambda x: relu_forward(x)[0], x, dout)\n",
        "\n",
        "_, cache = relu_forward(x)\n",
        "dx = relu_backward(dout, cache)\n",
        "\n",
        "# The error should be on the order of e-12\n",
        "print('Testing relu_backward function:')\n",
        "print('dx error: ', rel_error(dx_num, dx))"
      ]
    },
    {
      "cell_type": "markdown",
      "id": "b0f2e4d2",
      "metadata": {
        "id": "b0f2e4d2"
      },
      "source": [
        "# Sigmoid activation: forward\n",
        "Implement the forward pass for the Sigmoid activation function in the `sigmoid_forward` function and test your implementation using numeric gradient checking."
      ]
    },
    {
      "cell_type": "code",
      "execution_count": null,
      "id": "872854b0",
      "metadata": {
        "id": "872854b0"
      },
      "outputs": [],
      "source": [
        "def sigmoid_forward(x):\n",
        "    \"\"\"\n",
        "    Computes the forward pass for a layer of Sigmoid.\n",
        "\n",
        "    Input:\n",
        "    - x: Inputs, of any shape\n",
        "\n",
        "    Returns a tuple of:\n",
        "    - out: Output, of the same shape as x\n",
        "    - cache: x\n",
        "    \"\"\"\n",
        "    ###########################################################################\n",
        "    # TODO: Implement the Sigmoid forward pass.                               #\n",
        "    ###########################################################################\n",
        "\n",
        "    out = np.ones(np.shape(x)) / (1 + np.exp(-x))\n",
        "\n",
        "    cache = x.copy()\n",
        "\n",
        "    return out, cache"
      ]
    },
    {
      "cell_type": "code",
      "execution_count": 11,
      "id": "1aadfec8",
      "metadata": {
        "colab": {
          "base_uri": "https://localhost:8080/"
        },
        "id": "1aadfec8",
        "outputId": "8c2cdc39-4dc8-4ee4-8e51-358821051d98"
      },
      "outputs": [
        {
          "name": "stdout",
          "output_type": "stream",
          "text": [
            "Testing sigmoid_forward function:\n",
            "difference:  6.383174040859927e-07\n"
          ]
        }
      ],
      "source": [
        "# Test the sigmoid_forward function\n",
        "\n",
        "x = np.linspace(-6, 6, num=12).reshape(3, 4)\n",
        "\n",
        "out, _ = sigmoid_forward(x)\n",
        "correct_out = np.array([[0.00247262, 0.00732514, 0.0214955 , 0.06138311],\n",
        "                        [0.16296047, 0.36691963, 0.63308037, 0.83703953],\n",
        "                        [0.93861689, 0.9785045 , 0.99267486, 0.99752738]])\n",
        "\n",
        "# Compare your output with ours. The error should be on the order of e-7\n",
        "print('Testing sigmoid_forward function:')\n",
        "print('difference: ', rel_error(out, correct_out))"
      ]
    },
    {
      "cell_type": "markdown",
      "id": "9aa4e6a8",
      "metadata": {
        "id": "9aa4e6a8"
      },
      "source": [
        "# Sigmoid activation: backward\n",
        "Now implement the backward pass for the Sigmoid activation function in the `sigmoid_backward` function."
      ]
    },
    {
      "cell_type": "code",
      "execution_count": null,
      "id": "fe527984",
      "metadata": {
        "id": "fe527984"
      },
      "outputs": [],
      "source": [
        "def sigmoid_backward(dout, cache):\n",
        "    \"\"\"\n",
        "    Computes the backward pass for a layer of Sigmoid.\n",
        "\n",
        "    Input:\n",
        "    - dout: Upstream derivatives, of any shape\n",
        "    - cache: Input x, of same shape as dout\n",
        "\n",
        "    Returns:\n",
        "    - dx: Gradient with respect to x\n",
        "    \"\"\"\n",
        "    ###########################################################################\n",
        "    # TODO: Implement the Sigmoid backward pass.                              #\n",
        "    ###########################################################################\n",
        "    x = cache\n",
        "    out = np.ones(np.shape(x)) / (1 + np.exp(-x))\n",
        "    dx = out * (1 - out) * dout\n",
        "\n",
        "    return dx"
      ]
    },
    {
      "cell_type": "markdown",
      "id": "b5ec2570",
      "metadata": {
        "id": "b5ec2570"
      },
      "source": [
        "You can test your implementation using numeric gradient checking:"
      ]
    },
    {
      "cell_type": "code",
      "execution_count": 13,
      "id": "e06a7eef",
      "metadata": {
        "colab": {
          "base_uri": "https://localhost:8080/"
        },
        "id": "e06a7eef",
        "outputId": "67bd9352-4e48-4ce5-d97d-6a4892b21317"
      },
      "outputs": [
        {
          "name": "stdout",
          "output_type": "stream",
          "text": [
            "Testing sigmoid_backward function:\n",
            "dx error:  3.446520386706568e-11\n"
          ]
        }
      ],
      "source": [
        "# Test the sigmoid_backward function\n",
        "np.random.seed(231)\n",
        "x = np.random.randn(10, 10)\n",
        "dout = np.random.randn(*x.shape)\n",
        "\n",
        "dx_num = eval_numerical_gradient_array(lambda x: sigmoid_forward(x)[0], x, dout)\n",
        "\n",
        "_, cache = sigmoid_forward(x)\n",
        "dx = sigmoid_backward(dout, cache)\n",
        "\n",
        "# The error should be on the order of e-11\n",
        "print('Testing sigmoid_backward function:')\n",
        "print('dx error: ', rel_error(dx_num, dx))"
      ]
    },
    {
      "cell_type": "markdown",
      "id": "1eb8d7a7",
      "metadata": {
        "id": "1eb8d7a7"
      },
      "source": [
        "# \"Sandwich\" layers\n",
        "There are some common patterns of layers that are frequently used in neural nets. For example, affine layers are frequently followed by a ReLU nonlinearity. Implement the forward and backward pass for the affine layer followed by a ReLU nonlinearity in the `affine_relu_forward` and `affine_relu_backward` functions."
      ]
    },
    {
      "cell_type": "code",
      "execution_count": null,
      "id": "7283bd3d",
      "metadata": {
        "id": "7283bd3d"
      },
      "outputs": [],
      "source": [
        "def affine_relu_forward(x, w, b):\n",
        "    \"\"\"\n",
        "    Convenience layer that performs an affine transform followed by a ReLU\n",
        "\n",
        "    Inputs:\n",
        "    - x: Input to the affine layer\n",
        "    - w, b: Weights for the affine layer\n",
        "\n",
        "    Returns a tuple of:\n",
        "    - out: Output from the ReLU\n",
        "    - cache: Object to give to the backward pass\n",
        "    \"\"\"\n",
        "    ###########################################################################\n",
        "    # TODO: Implement the affine-RELU forward pass.                           #\n",
        "    ###########################################################################\n",
        "    pre_active, affine_cache = affine_forward(x, w, b)\n",
        "    out, relu_cache = relu_forward(pre_active)\n",
        "\n",
        "    cache = (affine_cache, relu_cache)\n",
        "\n",
        "    return out, cache\n"
      ]
    },
    {
      "cell_type": "code",
      "execution_count": null,
      "id": "00e27852",
      "metadata": {
        "id": "00e27852"
      },
      "outputs": [],
      "source": [
        "def affine_relu_backward(dout, cache):\n",
        "    \"\"\"\n",
        "    Backward pass for the affine-relu convenience layer\n",
        "\n",
        "    Inputs:\n",
        "    - dout: Upstream derivatives, of any shape\n",
        "    - cache: (fc_cache, relu_cache)\n",
        "\n",
        "    Returns a tuple of:\n",
        "    - dx: Gradient with respect to x\n",
        "    - dw: Gradient with respect to w\n",
        "    - db: Gradient with respect to b\n",
        "    \"\"\"\n",
        "    ###########################################################################\n",
        "    # TODO: Implement the affine-RELU backward pass.                          #\n",
        "    ###########################################################################\n",
        "    f_cache, relu_cache = cache\n",
        "\n",
        "    dz = relu_backward(dout, relu_cache)\n",
        "    dx, dw, db = affine_backward(dz, f_cache)\n",
        "\n",
        "    return dx, dw, db"
      ]
    },
    {
      "cell_type": "markdown",
      "id": "ccdd0b18",
      "metadata": {
        "id": "ccdd0b18"
      },
      "source": [
        "You can test your implementation using numeric gradient checking:"
      ]
    },
    {
      "cell_type": "code",
      "execution_count": 16,
      "id": "d53fb1c9",
      "metadata": {
        "colab": {
          "base_uri": "https://localhost:8080/"
        },
        "id": "d53fb1c9",
        "outputId": "3fa0e628-a860-45cf-f027-cfee22266f99"
      },
      "outputs": [
        {
          "name": "stdout",
          "output_type": "stream",
          "text": [
            "Testing affine_relu_forward and affine_relu_backward:\n",
            "dx error:  2.299579177309368e-11\n",
            "dw error:  8.162011105764925e-11\n",
            "db error:  7.826724021458994e-12\n"
          ]
        }
      ],
      "source": [
        "# Test the affine_relu_backward function\n",
        "\n",
        "np.random.seed(231)\n",
        "x = np.random.randn(2, 3, 4)\n",
        "w = np.random.randn(12, 10)\n",
        "b = np.random.randn(10)\n",
        "dout = np.random.randn(2, 10)\n",
        "\n",
        "out, cache = affine_relu_forward(x, w, b)\n",
        "dx, dw, db = affine_relu_backward(dout, cache)\n",
        "\n",
        "dx_num = eval_numerical_gradient_array(lambda x: affine_relu_forward(x, w, b)[0], x, dout)\n",
        "dw_num = eval_numerical_gradient_array(lambda w: affine_relu_forward(x, w, b)[0], w, dout)\n",
        "db_num = eval_numerical_gradient_array(lambda b: affine_relu_forward(x, w, b)[0], b, dout)\n",
        "\n",
        "# Relative error should be around e-10 or less\n",
        "print('Testing affine_relu_forward and affine_relu_backward:')\n",
        "print('dx error: ', rel_error(dx_num, dx))\n",
        "print('dw error: ', rel_error(dw_num, dw))\n",
        "print('db error: ', rel_error(db_num, db))"
      ]
    },
    {
      "cell_type": "markdown",
      "id": "0bd6b07f",
      "metadata": {
        "id": "0bd6b07f"
      },
      "source": [
        "# Batch Normalization: Forward Pass\n",
        "Implement the batch normalization forward pass in the function `batchnorm_forward`."
      ]
    },
    {
      "cell_type": "code",
      "execution_count": null,
      "id": "7ae14e5d",
      "metadata": {
        "id": "7ae14e5d"
      },
      "outputs": [],
      "source": [
        "def batchnorm_forward(x, gamma, beta, bn_param):\n",
        "    \"\"\"Forward pass for batch normalization.\n",
        "\n",
        "    During training the sample mean and (uncorrected) sample variance are\n",
        "    computed from minibatch statistics and used to normalize the incoming data.\n",
        "    During training we also keep an exponentially decaying running mean of the\n",
        "    mean and variance of each feature, and these averages are used to normalize\n",
        "    data at test-time.\n",
        "\n",
        "    At each timestep we update the running averages for mean and variance using\n",
        "    an exponential decay based on the momentum parameter:\n",
        "\n",
        "    running_mean = momentum * running_mean + (1 - momentum) * sample_mean\n",
        "    running_var = momentum * running_var + (1 - momentum) * sample_var\n",
        "\n",
        "    Input:\n",
        "    - x: Data of shape (N, D)\n",
        "    - gamma: Scale parameter of shape (D,)\n",
        "    - beta: Shift paremeter of shape (D,)\n",
        "    - bn_param: Dictionary with the following keys:\n",
        "      - mode: 'train' or 'test'; required\n",
        "      - eps: Constant for numeric stability\n",
        "      - momentum: Constant for running mean / variance.\n",
        "      - running_mean: Array of shape (D,) giving running mean of features\n",
        "      - running_var Array of shape (D,) giving running variance of features\n",
        "\n",
        "    Returns a tuple of:\n",
        "    - out: of shape (N, D)\n",
        "    - cache: A tuple of values needed in the backward pass\n",
        "    \"\"\"\n",
        "    mode = bn_param[\"mode\"]\n",
        "    eps = bn_param.get(\"eps\", 1e-5)\n",
        "    momentum = bn_param.get(\"momentum\", 0.9)\n",
        "\n",
        "    N, D = x.shape\n",
        "    running_mean = bn_param.get(\"running_mean\", np.zeros(D, dtype=x.dtype))\n",
        "    running_var = bn_param.get(\"running_var\", np.zeros(D, dtype=x.dtype))\n",
        "\n",
        "    out, cache = None, None\n",
        "    if mode == \"train\":\n",
        "        #######################################################################\n",
        "        # TODO: Implement the training-time forward pass for batch norm.      #\n",
        "        # Use minibatch statistics to compute the mean and variance, use      #\n",
        "        # these statistics to normalize the incoming data, and scale and      #\n",
        "        # shift the normalized data using gamma and beta.                     #\n",
        "        #                                                                     #\n",
        "        # You should store the output in the variable out. Any intermediates  #\n",
        "        # that you need for the backward pass should be stored in the cache   #\n",
        "        # variable.                                                           #\n",
        "        #                                                                     #\n",
        "        # You should also use your computed sample mean and variance together #\n",
        "        # with the momentum variable to update the running mean and running   #\n",
        "        # variance, storing your result in the running_mean and running_var   #\n",
        "        # variables.                                                          #\n",
        "        #                                                                     #\n",
        "        # Note that though you should be keeping track of the running         #\n",
        "        # variance, you should normalize the data based on the standard       #\n",
        "        # deviation (square root of variance) instead!                        #\n",
        "        #######################################################################\n",
        "        sample_mean = np.mean(x, axis=0, keepdims=True)\n",
        "        sample_var = np.var(x, axis=0, keepdims=True)\n",
        "        running_mean = momentum * running_mean + (1 - momentum) * sample_mean\n",
        "        running_var = momentum * running_var + (1 - momentum) * sample_var\n",
        "\n",
        "        x_normalized = (x - sample_mean) / np.sqrt(sample_var + eps)\n",
        "        out = gamma * x_normalized + beta\n",
        "        cache = (x_normalized, gamma, beta, sample_mean, sample_var, x, eps)\n",
        "\n",
        "    elif mode == \"test\":\n",
        "        #######################################################################\n",
        "        # TODO: Implement the test-time forward pass for batch normalization. #\n",
        "        # Use the running mean and variance to normalize the incoming data,   #\n",
        "        # then scale and shift the normalized data using gamma and beta.      #\n",
        "        # Store the result in the out variable.                               #\n",
        "        #######################################################################\n",
        "        x_normalized = (x - running_mean) / np.sqrt(running_var + eps)\n",
        "\n",
        "        out = gamma * x_normalized + beta\n",
        "        cache = None\n",
        "\n",
        "    else:\n",
        "        raise ValueError('Invalid forward batchnorm mode \"%s\"' % mode)\n",
        "\n",
        "    # Store the updated running means back into bn_param\n",
        "    bn_param[\"running_mean\"] = running_mean\n",
        "    bn_param[\"running_var\"] = running_var\n",
        "\n",
        "    return out, cache"
      ]
    },
    {
      "cell_type": "markdown",
      "id": "54b94ccd",
      "metadata": {
        "id": "54b94ccd"
      },
      "source": [
        "Run the following to test your implementation."
      ]
    },
    {
      "cell_type": "code",
      "execution_count": 18,
      "id": "71831d47",
      "metadata": {
        "colab": {
          "base_uri": "https://localhost:8080/"
        },
        "id": "71831d47",
        "outputId": "da2ce52d-2187-4fa6-9a8c-344f78541dbd"
      },
      "outputs": [
        {
          "name": "stdout",
          "output_type": "stream",
          "text": [
            "Before batch normalization:\n",
            "  means: [ -2.3814598  -13.18038246   1.91780462]\n",
            "  stds:  [27.18502186 34.21455511 37.68611762]\n",
            "\n",
            "After batch normalization (gamma=1, beta=0)\n",
            "  means: [5.32907052e-17 7.04991621e-17 1.85962357e-17]\n",
            "  stds:  [0.99999999 1.         1.        ]\n",
            "\n",
            "After batch normalization (gamma= [1. 2. 3.] , beta= [11. 12. 13.] )\n",
            "  means: [11. 12. 13.]\n",
            "  stds:  [0.99999999 1.99999999 2.99999999]\n",
            "\n"
          ]
        }
      ],
      "source": [
        "# Check the training-time forward pass by checking means and variances\n",
        "# of features both before and after batch normalization\n",
        "\n",
        "# Simulate the forward pass for a two-layer network.\n",
        "np.random.seed(231)\n",
        "N, D1, D2, D3 = 200, 50, 60, 3\n",
        "X = np.random.randn(N, D1)\n",
        "W1 = np.random.randn(D1, D2)\n",
        "W2 = np.random.randn(D2, D3)\n",
        "a = np.maximum(0, X.dot(W1)).dot(W2)\n",
        "\n",
        "print('Before batch normalization:')\n",
        "print_mean_std(a,axis=0)\n",
        "\n",
        "gamma = np.ones((D3,))\n",
        "beta = np.zeros((D3,))\n",
        "\n",
        "# Means should be close to zero and stds close to one.\n",
        "print('After batch normalization (gamma=1, beta=0)')\n",
        "a_norm, _ = batchnorm_forward(a, gamma, beta, {'mode': 'train'})\n",
        "print_mean_std(a_norm,axis=0)\n",
        "\n",
        "gamma = np.asarray([1.0, 2.0, 3.0])\n",
        "beta = np.asarray([11.0, 12.0, 13.0])\n",
        "\n",
        "# Now means should be close to beta and stds close to gamma.\n",
        "print('After batch normalization (gamma=', gamma, ', beta=', beta, ')')\n",
        "a_norm, _ = batchnorm_forward(a, gamma, beta, {'mode': 'train'})\n",
        "print_mean_std(a_norm,axis=0)"
      ]
    },
    {
      "cell_type": "code",
      "execution_count": 19,
      "id": "d89dca02",
      "metadata": {
        "colab": {
          "base_uri": "https://localhost:8080/"
        },
        "id": "d89dca02",
        "outputId": "fcf43aa7-2f56-4778-8e97-6c56e4f7610b"
      },
      "outputs": [
        {
          "name": "stdout",
          "output_type": "stream",
          "text": [
            "After batch normalization (test-time):\n",
            "  means: [-0.03927354 -0.04349152 -0.10452688]\n",
            "  stds:  [1.01531428 1.01238373 0.97819988]\n",
            "\n"
          ]
        }
      ],
      "source": [
        "# Check the test-time forward pass by running the training-time\n",
        "# forward pass many times to warm up the running averages, and then\n",
        "# checking the means and variances of activations after a test-time\n",
        "# forward pass.\n",
        "\n",
        "np.random.seed(231)\n",
        "N, D1, D2, D3 = 200, 50, 60, 3\n",
        "W1 = np.random.randn(D1, D2)\n",
        "W2 = np.random.randn(D2, D3)\n",
        "\n",
        "bn_param = {'mode': 'train'}\n",
        "gamma = np.ones(D3)\n",
        "beta = np.zeros(D3)\n",
        "\n",
        "for t in range(50):\n",
        "    X = np.random.randn(N, D1)\n",
        "    a = np.maximum(0, X.dot(W1)).dot(W2)\n",
        "    batchnorm_forward(a, gamma, beta, bn_param)\n",
        "\n",
        "bn_param['mode'] = 'test'\n",
        "X = np.random.randn(N, D1)\n",
        "a = np.maximum(0, X.dot(W1)).dot(W2)\n",
        "a_norm, _ = batchnorm_forward(a, gamma, beta, bn_param)\n",
        "\n",
        "# Means should be close to zero and stds close to one, but will be\n",
        "# noisier than training-time forward passes.\n",
        "print('After batch normalization (test-time):')\n",
        "print_mean_std(a_norm,axis=0)"
      ]
    },
    {
      "cell_type": "markdown",
      "id": "07719acb",
      "metadata": {
        "id": "07719acb"
      },
      "source": [
        "# Batch Normalization: Backward Pass\n",
        "Now implement the backward pass for batch normalization in the function `batchnorm_backward`.\n",
        "\n",
        "In the forward pass, given a set of inputs $X=\\begin{bmatrix}x_1\\\\x_2\\\\...\\\\x_N\\end{bmatrix}$,\n",
        "\n",
        "we first calculate the mean $\\mu$ and variance $var$.\n",
        "With $\\mu$ and $var$ calculated, we can calculate the standard deviation $\\sigma$  and normalized data $Y$.\n",
        "The equations and graph illustration below describe the computation ($y_i$ is the i-th element of the vector $Y$).\n",
        "\n",
        "\\begin{align}\n",
        "& \\mu=\\frac{1}{N}\\sum_{k=1}^N x_k  &  var=\\frac{1}{N}\\sum_{k=1}^N (x_k-\\mu)^2 \\\\\n",
        "& \\sigma=\\sqrt{v+\\epsilon}         &  y_i=\\frac{x_i-\\mu}{\\sigma}\n",
        "\\end{align}"
      ]
    },
    {
      "cell_type": "markdown",
      "id": "06afd7ac",
      "metadata": {
        "id": "06afd7ac"
      },
      "source": [
        "<img src=\"imgs/batchnorm_graph.png\">"
      ]
    },
    {
      "cell_type": "markdown",
      "id": "462af44e",
      "metadata": {
        "id": "462af44e"
      },
      "source": [
        "You should make sure each of the intermediary gradient derivations are all as simplified as possible, for ease of implementation."
      ]
    },
    {
      "cell_type": "code",
      "execution_count": null,
      "id": "07b2bf8c",
      "metadata": {
        "id": "07b2bf8c"
      },
      "outputs": [],
      "source": [
        "def batchnorm_backward(dout, cache):\n",
        "    \"\"\"Backward pass for batch normalization.\n",
        "\n",
        "    For this implementation, you should write out a computation graph for\n",
        "    batch normalization on paper and propagate gradients backward through\n",
        "    intermediate nodes.\n",
        "\n",
        "    Inputs:\n",
        "    - dout: Upstream derivatives, of shape (N, D)\n",
        "    - cache: Variable of intermediates from batchnorm_forward.\n",
        "\n",
        "    Returns a tuple of:\n",
        "    - dx: Gradient with respect to inputs x, of shape (N, D)\n",
        "    - dgamma: Gradient with respect to scale parameter gamma, of shape (D,)\n",
        "    - dbeta: Gradient with respect to shift parameter beta, of shape (D,)\n",
        "    \"\"\"\n",
        "    # ##########################################################################\n",
        "    # TODO: Implement the backward pass for batch normalization. Store the    #\n",
        "    # results in the dx, dgamma, and dbeta variables.                         #\n",
        "    # ##########################################################################\n",
        "\n",
        "    x_normalized, gamma, beta, sample_mean, sample_var, x, eps = cache\n",
        "    std_inverse = 1.0 / np.sqrt(sample_var + eps)\n",
        "    dsample_var = gamma * -0.5 * np.sum(dout * (x - sample_mean), axis=0, keepdims=True) * std_inverse ** 3\n",
        "    dsample_mean = -1.0 * gamma * np.sum(dout * std_inverse, axis=0, keepdims=True) - 2.0 * dsample_var * np.mean((x - sample_mean), axis=0, keepdims=True)\n",
        "    dx1 = dout * gamma * std_inverse\n",
        "    dx2 = 2.0 / x.shape[0] * dsample_var * (x - sample_mean)\n",
        "    dx3 = 1.0 / x.shape[0] * dsample_mean\n",
        "    dx = dx1 + dx2 + dx3\n",
        "\n",
        "    dgamma = np.sum(dout * x_normalized, axis=0)\n",
        "    dbeta = np.sum(dout, axis=0)\n",
        "    return dx,dgamma,dbeta"
      ]
    },
    {
      "cell_type": "markdown",
      "id": "d6891d0a",
      "metadata": {
        "id": "d6891d0a"
      },
      "source": [
        "Run the following to numerically check your backward pass."
      ]
    },
    {
      "cell_type": "code",
      "execution_count": 21,
      "id": "e615e6b0",
      "metadata": {
        "colab": {
          "base_uri": "https://localhost:8080/"
        },
        "id": "e615e6b0",
        "outputId": "0d32e81d-2de9-43fc-9ba0-6c38d88f4092"
      },
      "outputs": [
        {
          "name": "stdout",
          "output_type": "stream",
          "text": [
            "dx error:  1.702926968594948e-09\n",
            "dgamma error:  7.420414216247087e-13\n",
            "dbeta error:  2.8795057655839487e-12\n"
          ]
        }
      ],
      "source": [
        "# Gradient check batchnorm backward pass.\n",
        "np.random.seed(231)\n",
        "N, D = 4, 5\n",
        "x = 5 * np.random.randn(N, D) + 12\n",
        "gamma = np.random.randn(D)\n",
        "beta = np.random.randn(D)\n",
        "dout = np.random.randn(N, D)\n",
        "\n",
        "bn_param = {'mode': 'train'}\n",
        "fx = lambda x: batchnorm_forward(x, gamma, beta, bn_param)[0]\n",
        "fg = lambda a: batchnorm_forward(x, a, beta, bn_param)[0]\n",
        "fb = lambda b: batchnorm_forward(x, gamma, b, bn_param)[0]\n",
        "\n",
        "dx_num = eval_numerical_gradient_array(fx, x, dout)\n",
        "da_num = eval_numerical_gradient_array(fg, gamma.copy(), dout)\n",
        "db_num = eval_numerical_gradient_array(fb, beta.copy(), dout)\n",
        "\n",
        "_, cache = batchnorm_forward(x, gamma, beta, bn_param)\n",
        "dx, dgamma, dbeta = batchnorm_backward(dout, cache)\n",
        "\n",
        "# You should expect to see relative errors between 1e-13 and 1e-8.\n",
        "print('dx error: ', rel_error(dx_num, dx))\n",
        "print('dgamma error: ', rel_error(da_num, dgamma))\n",
        "print('dbeta error: ', rel_error(db_num, dbeta))\n"
      ]
    },
    {
      "cell_type": "markdown",
      "id": "a9227f7e",
      "metadata": {
        "id": "a9227f7e"
      },
      "source": [
        "# Loss layer: Softmax\n",
        "Now implement the loss and gradient for softmax in the `softmax_loss` function."
      ]
    },
    {
      "cell_type": "code",
      "execution_count": null,
      "id": "e99a83c5",
      "metadata": {
        "id": "e99a83c5"
      },
      "outputs": [],
      "source": [
        "def softmax_loss(x, y):\n",
        "    \"\"\"\n",
        "    Computes the loss and gradient for softmax classification.\n",
        "\n",
        "    Inputs:\n",
        "    - x: Input data, of shape (N, C) where x[i, j] is the score for the jth\n",
        "      class for the ith input.\n",
        "    - y: Vector of labels, of shape (N,) where y[i] is the label for x[i] and\n",
        "      0 <= y[i] < C\n",
        "\n",
        "    Returns a tuple of:\n",
        "    - loss: Scalar giving the loss\n",
        "    - dx: Gradient of the loss with respect to x\n",
        "    \"\"\"\n",
        "    ###########################################################################\n",
        "    # TODO: Implement the softmax_loss function.                              #\n",
        "    ###########################################################################\n",
        "    probs = np.exp(x) / np.sum(np.exp(x), axis=1, keepdims=True)\n",
        "    loss = -np.sum(np.log(probs[np.arange(x.shape[0]), y])) / x.shape[0]\n",
        "    dx = probs\n",
        "    dx[np.arange(x.shape[0]), y] -= 1\n",
        "    dx /= x.shape[0]\n",
        "\n",
        "    return loss,dx"
      ]
    },
    {
      "cell_type": "markdown",
      "id": "afee8350",
      "metadata": {
        "id": "afee8350"
      },
      "source": [
        "You can make sure that the implementations are correct by running the following:"
      ]
    },
    {
      "cell_type": "code",
      "execution_count": 23,
      "id": "ca558e12",
      "metadata": {
        "colab": {
          "base_uri": "https://localhost:8080/"
        },
        "id": "ca558e12",
        "outputId": "7dd6ebfd-f072-4097-aaa8-de0bd2b85dbd"
      },
      "outputs": [
        {
          "name": "stdout",
          "output_type": "stream",
          "text": [
            "\n",
            "Testing softmax_loss:\n",
            "loss:  2.302545844500738\n",
            "dx error:  9.483503037636722e-09\n"
          ]
        }
      ],
      "source": [
        "np.random.seed(231)\n",
        "num_classes, num_inputs = 10, 50\n",
        "x = 0.001 * np.random.randn(num_inputs, num_classes)\n",
        "y = np.random.randint(num_classes, size=num_inputs)\n",
        "\n",
        "dx_num = eval_numerical_gradient(lambda x: softmax_loss(x, y)[0], x, verbose=False)\n",
        "loss, dx = softmax_loss(x, y)\n",
        "\n",
        "# Test softmax_loss function. Loss should be close to 2.3 and dx error should be around e-8\n",
        "print('\\nTesting softmax_loss:')\n",
        "print('loss: ', loss)\n",
        "print('dx error: ', rel_error(dx_num, dx))"
      ]
    },
    {
      "cell_type": "markdown",
      "id": "31d4492a",
      "metadata": {
        "id": "31d4492a"
      },
      "source": [
        "# Loss layer: MSE\n",
        "Now implement the loss and gradient for mean squared error in the `mse_loss` function."
      ]
    },
    {
      "cell_type": "code",
      "execution_count": null,
      "id": "92f5cdd9",
      "metadata": {
        "id": "92f5cdd9"
      },
      "outputs": [],
      "source": [
        "def mse_loss(x, y):\n",
        "    \"\"\"\n",
        "    Computes the loss and gradient for MSE loss.\n",
        "\n",
        "    Inputs:\n",
        "    - x: Input data, of shape (N,) where x[i] is the predicted vector for\n",
        "        the ith input.\n",
        "    - y: Vector of target values, of shape (N,) where y[i] is the target value\n",
        "        for the ith input.\n",
        "\n",
        "    Returns a tuple of:\n",
        "    - loss: Scalar giving the loss\n",
        "    - dx: Gradient of the loss with respect to x\n",
        "    \"\"\"\n",
        "    ###########################################################################\n",
        "    # TODO: Implement the mse_loss function.                                  #\n",
        "    ###########################################################################\n",
        "    MSE = np.mean((x - y) ** 2)\n",
        "    dx = 2 * np.subtract(x, y) / x.shape[0]\n",
        "\n",
        "    return MSE,dx"
      ]
    },
    {
      "cell_type": "markdown",
      "id": "55b5b9db",
      "metadata": {
        "id": "55b5b9db"
      },
      "source": [
        "You can make sure that the implementations are correct by running the following:"
      ]
    },
    {
      "cell_type": "code",
      "execution_count": 25,
      "id": "0e850132",
      "metadata": {
        "colab": {
          "base_uri": "https://localhost:8080/"
        },
        "id": "0e850132",
        "outputId": "43ea4e8e-f902-4efb-af6d-b75ef7bface2"
      },
      "outputs": [
        {
          "name": "stdout",
          "output_type": "stream",
          "text": [
            "\n",
            "Testing mse_loss:\n",
            "loss:  1.8672282748726519\n",
            "dx error:  2.8607953262121067e-09\n"
          ]
        }
      ],
      "source": [
        "np.random.seed(231)\n",
        "num_inputs = 50\n",
        "x = np.random.randn(num_inputs)\n",
        "y = np.random.randn(num_inputs)\n",
        "\n",
        "dx_num = eval_numerical_gradient(lambda x: mse_loss(x, y)[0], x, verbose=False)\n",
        "loss, dx = mse_loss(x, y)\n",
        "\n",
        "# Test mse_loss function. Loss should be close to 1.9 and dx error should be around e-9\n",
        "print('\\nTesting mse_loss:')\n",
        "print('loss: ', loss)\n",
        "print('dx error: ', rel_error(dx_num, dx))"
      ]
    },
    {
      "cell_type": "markdown",
      "id": "71a7bb75",
      "metadata": {
        "id": "71a7bb75"
      },
      "source": [
        "# Multi-Layer Fully Connected Network\n",
        "In this part, you will implement a fully connected network with an arbitrary number of hidden layers."
      ]
    },
    {
      "cell_type": "code",
      "execution_count": null,
      "id": "ffd460d2",
      "metadata": {
        "id": "ffd460d2"
      },
      "outputs": [],
      "source": [
        "class FullyConnectedNet(object):\n",
        "    \"\"\"Class for a multi-layer fully connected neural network.\n",
        "\n",
        "    Network contains an arbitrary number of hidden layers, ReLU nonlinearities,\n",
        "    and a softmax loss function for a classification problem or the MSE loss function for\n",
        "    a regression problem. This will also implement batch normalization as an option.\n",
        "    For a network with L layers, the architecture will be\n",
        "\n",
        "    {affine - [batchnorm] - relu} x (L - 1) - affine - softmax/mse\n",
        "\n",
        "    where batch normalization is optional in each layer and the {...} block is\n",
        "    repeated L - 1 times.\n",
        "\n",
        "    Learnable parameters are stored in the self.params dictionary and will be learned\n",
        "    using the Solver class.\n",
        "    \"\"\"\n",
        "\n",
        "    def __init__(\n",
        "        self,\n",
        "        category,\n",
        "        hidden_dims,\n",
        "        normalization,\n",
        "        input_dim=784,\n",
        "        output_dim=10,\n",
        "        reg=0.0,\n",
        "        weight_scale=1e-2,\n",
        "        dtype=np.float32,\n",
        "    ):\n",
        "        \"\"\"Initialize a new FullyConnectedNet.\n",
        "\n",
        "        Inputs:\n",
        "        - category: The type of the problem. Valid values are \"classification\",\n",
        "            \"regression\".\n",
        "        - hidden_dims: A list of integers giving the size of each hidden layer.\n",
        "        - normalization: A list of booleans which shows that we have batch\n",
        "            normalization after the affine layer.\n",
        "        - input_dim: An integer giving the size of the input.\n",
        "        - output_dim: An integer giving the number of classes to classify. It\n",
        "            is 1 for a regression problem.\n",
        "        - reg: Scalar giving L2 regularization strength.\n",
        "        - weight_scale: Scalar giving the standard deviation for random\n",
        "            initialization of the weights.\n",
        "        - dtype: A numpy datatype object; all computations will be performed using\n",
        "            this datatype. float32 is faster but less accurate, so you should use\n",
        "            float64 for numeric gradient checking.\n",
        "        \"\"\"\n",
        "        self.category = category\n",
        "        self.normalization = normalization\n",
        "        self.reg = reg\n",
        "        self.num_layers = 1 + len(hidden_dims)\n",
        "        self.dtype = dtype\n",
        "        self.params = {}\n",
        "\n",
        "        ############################################################################\n",
        "        # TODO: Initialize the parameters of the network, storing all values in    #\n",
        "        # the self.params dictionary. Store weights and biases for the first layer #\n",
        "        # in W1 and b1; for the second layer use W2 and b2, etc. Weights should be #\n",
        "        # initialized from a normal distribution centered at 0 with standard       #\n",
        "        # deviation equal to weight_scale. Biases should be initialized to zero.   #\n",
        "        #                                                                          #\n",
        "        # When using batch normalization, store scale and shift parameters for the #\n",
        "        # first layer in gamma1 and beta1; for the second layer use gamma2 and     #\n",
        "        # beta2, etc. Scale parameters should be initialized to ones and shift     #\n",
        "        # parameters should be initialized to zeros.                               #\n",
        "        ############################################################################\n",
        "        layers_in, layers_out = ([input_dim] + hidden_dims, hidden_dims + [output_dim])\n",
        "        for layer, (in_dim, out_dim) in enumerate(zip(layers_in,layers_out)):\n",
        "            self.params[f\"W{layer + 1}\"] = np.random.randn(in_dim,out_dim) * weight_scale\n",
        "            self.params[f\"b{layer + 1}\"] =  np.zeros(out_dim)\n",
        "            if layer < self.num_layers - 1:\n",
        "                if self.normalization[layer]:\n",
        "                    self.params[f\"gamma{layer + 1}\"] =  np.ones(out_dim)\n",
        "                    self.params[f\"beta{layer + 1}\"] = np.zeros(out_dim)\n",
        "\n",
        "        #                             END OF YOUR CODE                             \n",
        "\n",
        "        # With batch normalization we need to keep track of running means and\n",
        "        # variances, so we need to pass a special bn_param object to each batch\n",
        "        # normalization layer. You should pass self.bn_params[0] to the forward pass\n",
        "        # of the first batch normalization layer, self.bn_params[1] to the forward\n",
        "        # pass of the second batch normalization layer, etc.\n",
        "        self.bn_params = [{\"mode\": \"train\"} for i in range(self.num_layers - 1)]\n",
        "\n",
        "        # Cast all parameters to the correct datatype.\n",
        "        for k, v in self.params.items():\n",
        "            self.params[k] = v.astype(dtype)\n",
        "\n",
        "    def loss(self, X, y=None):\n",
        "        \"\"\"Compute loss and gradient for the fully connected net.\n",
        "\n",
        "        Inputs:\n",
        "        - X: Array of input data of shape (N, d_1, ..., d_k)\n",
        "        - y: Array of labels / target values, of shape (N,). y[i] gives the\n",
        "            label / target value for X[i].\n",
        "\n",
        "        Returns:\n",
        "        If y is None, then run a test-time forward pass of the model and return\n",
        "        scores for a classification problem or the predicted_values for\n",
        "        a regression problem:\n",
        "        - out: Array of shape (N, C) / (N, ) giving classification scores / predicted values, where\n",
        "        scores[i, c] is the classification score for X[i] and class c / predicted_values[i]\n",
        "        is the predicted value for X[i].\n",
        "\n",
        "\n",
        "        If y is not None, then run a training-time forward and backward pass and\n",
        "        return a tuple of:\n",
        "        - loss: Scalar value giving the loss\n",
        "        - grads: Dictionary with the same keys as self.params, mapping parameter\n",
        "            names to gradients of the loss with respect to those parameters.\n",
        "        \"\"\"\n",
        "        X = X.astype(self.dtype)\n",
        "        mode = \"test\" if y is None else \"train\"\n",
        "\n",
        "        # Set train/test mode for batchnorm params since they\n",
        "        # behave differently during training and testing.\n",
        "        for bn_param in self.bn_params:\n",
        "            bn_param[\"mode\"] = mode\n",
        "        ############################################################################\n",
        "        # TODO: Implement the forward pass for the fully connected net, computing  #\n",
        "        # the class scores / target values for X and storing them in the out       #\n",
        "        #  variable.                                                               #\n",
        "        #                                                                          #\n",
        "        # When using batch normalization, you'll need to pass self.bn_params[0] to #\n",
        "        # the forward pass for the first batch normalization layer, pass           #\n",
        "        # self.bn_params[1] to the forward pass for the second batch normalization #\n",
        "        # layer, etc.                                                              #\n",
        "        ############################################################################\n",
        "        caches = []\n",
        "        out = X\n",
        "        for layer in range(self.num_layers):\n",
        "            out, cache = affine_forward(out, self.params[f\"W{layer + 1}\"], self.params[f\"b{layer + 1}\"])\n",
        "            caches.append(cache)\n",
        "            if layer == self.num_layers - 1:\n",
        "                continue\n",
        "            if self.normalization[layer]:\n",
        "                out, cache =  batchnorm_forward(out, self.params[f\"gamma{layer + 1}\"], self.params[f\"beta{layer + 1}\"], self.bn_params[layer])\n",
        "                caches.append(cache)\n",
        "            out, cache = relu_forward(out)\n",
        "            caches.append(cache)\n",
        "        #                             END OF YOUR CODE                             #\n",
        "\n",
        "        # If test mode return early.\n",
        "        if mode == \"test\":\n",
        "            return out\n",
        "\n",
        "        loss, grads = 0.0, {}\n",
        "        ############################################################################\n",
        "        # TODO: Implement the backward pass for the fully connected net. Store the #\n",
        "        # loss in the loss variable and gradients in the grads dictionary. Compute #se\n",
        "        # data loss using softmax/mse, and make sure that grads[k] holds the       #\n",
        "        # gradients for self.params[k]. Don't forget to add L2 regularization!     #\n",
        "        #                                                                          #\n",
        "        # When using batch normalization, you don't need to regularize the scale   #\n",
        "        # and shift parameters.                                                    #\n",
        "        #                                                                          #\n",
        "        # NOTE: To ensure that your implementation matches ours and you pass the   #\n",
        "        # automated tests, make sure that your L2 regularization includes a factor #\n",
        "        # of 0.5 to simplify the expression for the gradient.                      #\n",
        "        ############################################################################\n",
        "        loss, dout = softmax_loss(out, y) if self.category == \"classification\" else mse_loss(out, y)\n",
        "        dout, grads[f\"W{self.num_layers}\"], grads[f\"b{self.num_layers}\"] = affine_backward(dout, caches.pop())\n",
        "        grads[f\"W{self.num_layers}\"] += self.reg * self.params[f\"W{self.num_layers}\"]\n",
        "        loss += 0.5 * self.reg * np.sum(np.square(self.params[f'W{self.num_layers}']))\n",
        "        for layer in range(self.num_layers-2, -1 , -1):\n",
        "            dout = relu_backward(dout, caches.pop())\n",
        "            if self.normalization[layer]:\n",
        "                dout, grads[f\"gamma{layer + 1}\"], grads[f\"beta{layer + 1}\"] = batchnorm_backward(dout,caches.pop())\n",
        "            dout, grads[f\"W{layer + 1}\"], grads[f\"b{layer + 1}\"] = affine_backward(dout,caches.pop())\n",
        "            grads[f\"W{layer + 1}\"] += self.reg * self.params[f\"W{layer + 1}\"]\n",
        "            loss += 0.5 * self.reg * np.sum(np.square(self.params[f'W{layer + 1}']))\n",
        "\n",
        "        #                             END OF YOUR CODE                             #\n",
        "\n",
        "        return loss, grads"
      ]
    },
    {
      "cell_type": "markdown",
      "id": "a14a2795",
      "metadata": {
        "id": "a14a2795"
      },
      "source": [
        "## Initial Loss and Gradient Check\n",
        "\n",
        "As a sanity check, run the following to check the initial loss and to gradient check the network both with and without regularization. This is a good way to see if the initial losses seem reasonable.\n",
        "\n",
        "For gradient checking, you should expect to see errors around 1e-7 or less."
      ]
    },
    {
      "cell_type": "code",
      "execution_count": 27,
      "id": "cf719033",
      "metadata": {
        "colab": {
          "base_uri": "https://localhost:8080/"
        },
        "id": "cf719033",
        "outputId": "2c4e195e-40b7-46ea-c63d-7127381c5e3e"
      },
      "outputs": [
        {
          "name": "stdout",
          "output_type": "stream",
          "text": [
            "Running check with reg =  0\n",
            "Initial loss:  2.3004790897684924\n",
            "W1 relative error: 7.696803870986541e-08\n",
            "W2 relative error: 1.7087519140575808e-05\n",
            "W3 relative error: 2.9508423118300657e-07\n",
            "b1 relative error: 4.660094650186831e-09\n",
            "b2 relative error: 2.085654124402131e-09\n",
            "b3 relative error: 6.598642296022133e-11\n",
            "Running check with reg =  3.14\n",
            "Initial loss:  7.052114776533016\n",
            "W1 relative error: 7.355058816898759e-09\n",
            "W2 relative error: 6.86942277940646e-08\n",
            "W3 relative error: 3.483989277228501e-08\n",
            "b1 relative error: 1.1683196894962977e-08\n",
            "b2 relative error: 1.7223751746766738e-09\n",
            "b3 relative error: 2.86824680346369e-10\n"
          ]
        }
      ],
      "source": [
        "np.random.seed(231)\n",
        "N, D, H1, H2, C = 2, 15, 20, 30, 10\n",
        "X = np.random.randn(N, D)\n",
        "y = np.random.randint(C, size=(N,))\n",
        "\n",
        "for reg in [0, 3.14]:\n",
        "    print(\"Running check with reg = \", reg)\n",
        "    model = FullyConnectedNet(\n",
        "        \"classification\",\n",
        "        [H1, H2],\n",
        "        [False, False],\n",
        "        input_dim=D,\n",
        "        output_dim=C,\n",
        "        reg=reg,\n",
        "        weight_scale=5e-2,\n",
        "        dtype=np.float64\n",
        "    )\n",
        "\n",
        "    loss, grads = model.loss(X, y)\n",
        "    print(\"Initial loss: \", loss)\n",
        "\n",
        "    # Most of the errors should be on the order of e-7 or smaller.\n",
        "    # NOTE: It is fine however to see an error for W2 on the order of e-5\n",
        "    # for the check when reg = 0.0\n",
        "    for name in sorted(grads):\n",
        "        f = lambda _: model.loss(X, y)[0]\n",
        "        grad_num = eval_numerical_gradient(f, model.params[name], verbose=False, h=1e-5)\n",
        "        print(f\"{name} relative error: {rel_error(grad_num, grads[name])}\")"
      ]
    },
    {
      "cell_type": "code",
      "execution_count": 28,
      "id": "0bc48caf",
      "metadata": {
        "colab": {
          "base_uri": "https://localhost:8080/"
        },
        "id": "0bc48caf",
        "outputId": "c280d39b-35c3-4a49-c3dc-0f6863418a41"
      },
      "outputs": [
        {
          "name": "stdout",
          "output_type": "stream",
          "text": [
            "Running check with reg =  0\n",
            "Initial loss:  2.2611955101340957\n",
            "W1 relative error: 1.10e-04\n",
            "W2 relative error: 3.35e-06\n",
            "W3 relative error: 3.92e-10\n",
            "b1 relative error: 2.22e-08\n",
            "b2 relative error: 5.55e-09\n",
            "b3 relative error: 8.26e-11\n",
            "beta1 relative error: 7.85e-09\n",
            "beta2 relative error: 1.89e-09\n",
            "gamma1 relative error: 7.47e-09\n",
            "gamma2 relative error: 3.35e-09\n",
            "\n",
            "Running check with reg =  3.14\n",
            "Initial loss:  6.996533220108303\n",
            "W1 relative error: 1.98e-06\n",
            "W2 relative error: 2.28e-06\n",
            "W3 relative error: 1.11e-08\n",
            "b1 relative error: 5.55e-09\n",
            "b2 relative error: 2.22e-08\n",
            "b3 relative error: 2.10e-10\n",
            "beta1 relative error: 6.32e-09\n",
            "beta2 relative error: 3.48e-09\n",
            "gamma1 relative error: 5.94e-09\n",
            "gamma2 relative error: 4.14e-09\n"
          ]
        }
      ],
      "source": [
        "np.random.seed(231)\n",
        "N, D, H1, H2, C = 2, 15, 20, 30, 10\n",
        "X = np.random.randn(N, D)\n",
        "y = np.random.randint(C, size=(N,))\n",
        "\n",
        "# You should expect losses between 1e-4~1e-10 for W,\n",
        "# losses between 1e-08~1e-10 for b,\n",
        "# and losses between 1e-08~1e-09 for beta and gammas.\n",
        "for reg in [0, 3.14]:\n",
        "    print('Running check with reg = ', reg)\n",
        "    model = FullyConnectedNet(\n",
        "        \"classification\",\n",
        "        [H1, H2],\n",
        "        [True, True],\n",
        "        input_dim=D,\n",
        "        output_dim=C,\n",
        "        reg=reg,\n",
        "        weight_scale=5e-2,\n",
        "        dtype=np.float64\n",
        "    )\n",
        "\n",
        "    loss, grads = model.loss(X, y)\n",
        "    print('Initial loss: ', loss)\n",
        "\n",
        "    for name in sorted(grads):\n",
        "        f = lambda _: model.loss(X, y)[0]\n",
        "        grad_num = eval_numerical_gradient(f, model.params[name], verbose=False, h=1e-5)\n",
        "        print('%s relative error: %.2e' % (name, rel_error(grad_num, grads[name])))\n",
        "    if reg == 0: print()"
      ]
    },
    {
      "cell_type": "markdown",
      "id": "6042ddcf",
      "metadata": {
        "id": "6042ddcf"
      },
      "source": [
        "## SGD+Momentum\n",
        "Stochastic gradient descent with momentum is a widely used update rule that tends to make deep networks converge faster than vanilla stochastic gradient descent.\n",
        "\n",
        "Implement the SGD+momentum update rule in the function `sgd_momentum`."
      ]
    },
    {
      "cell_type": "code",
      "execution_count": null,
      "id": "2e678506",
      "metadata": {
        "id": "2e678506"
      },
      "outputs": [],
      "source": [
        "def sgd_momentum(w, dw, config=None):\n",
        "    \"\"\"\n",
        "    Performs stochastic gradient descent with momentum.\n",
        "    Inputs:\n",
        "    - w: A numpy array giving the current weights.\n",
        "    - dw: A numpy array of the same shape as w giving the gradient of the\n",
        "    loss with respect to w.\n",
        "    - config: A dictionary containing hyperparameter values such as learning\n",
        "    rate, momentum.\n",
        "\n",
        "    Returns:\n",
        "      - next_w: The next point after the update.\n",
        "      - config: The config dictionary to be passed to the next iteration of the\n",
        "        update rule.\n",
        "\n",
        "    config format:\n",
        "    - learning_rate: Scalar learning rate.\n",
        "    - momentum: Scalar between 0 and 1 giving the momentum value.\n",
        "      Setting momentum = 0 reduces sgd_momentum to stochastic gradient descent.\n",
        "    - velocity: A numpy array of the same shape as w and dw used to store a\n",
        "      moving average of the gradients.\n",
        "    \"\"\"\n",
        "    if config is None:\n",
        "        config = {}\n",
        "    config.setdefault(\"learning_rate\", 1e-2)\n",
        "    config.setdefault(\"momentum\", 0.9)\n",
        "    v = config.get(\"velocity\", np.zeros_like(w))\n",
        "\n",
        "    next_w = None\n",
        "    ###########################################################################\n",
        "    # TODO: Implement the momentum update formula. Store the updated value in #\n",
        "    # the next_w variable. You should also use and update the velocity v.     #\n",
        "    ###########################################################################\n",
        "    v = config['momentum'] * v - config['learning_rate'] * dw\n",
        "    next_w = w + v\n",
        "\n",
        "    #                             END OF YOUR CODE                            #\n",
        "    config[\"velocity\"] = v\n",
        "\n",
        "    return next_w, config"
      ]
    },
    {
      "cell_type": "markdown",
      "id": "f1730d10",
      "metadata": {
        "id": "f1730d10"
      },
      "source": [
        "Run the following to check your implementation. You should see errors less than e-8."
      ]
    },
    {
      "cell_type": "code",
      "execution_count": 30,
      "id": "3595fc5b",
      "metadata": {
        "colab": {
          "base_uri": "https://localhost:8080/"
        },
        "id": "3595fc5b",
        "outputId": "ceab0d2a-5d38-4d2e-d762-7af5b7ddc40b"
      },
      "outputs": [
        {
          "name": "stdout",
          "output_type": "stream",
          "text": [
            "next_w error:  8.882347033505819e-09\n",
            "velocity error:  4.269287743278663e-09\n"
          ]
        }
      ],
      "source": [
        "N, D = 4, 5\n",
        "w = np.linspace(-0.4, 0.6, num=N*D).reshape(N, D)\n",
        "dw = np.linspace(-0.6, 0.4, num=N*D).reshape(N, D)\n",
        "v = np.linspace(0.6, 0.9, num=N*D).reshape(N, D)\n",
        "\n",
        "config = {\"learning_rate\": 1e-3, \"velocity\": v}\n",
        "next_w, _ = sgd_momentum(w, dw, config=config)\n",
        "\n",
        "expected_next_w = np.asarray([\n",
        "  [ 0.1406,      0.20738947,  0.27417895,  0.34096842,  0.40775789],\n",
        "  [ 0.47454737,  0.54133684,  0.60812632,  0.67491579,  0.74170526],\n",
        "  [ 0.80849474,  0.87528421,  0.94207368,  1.00886316,  1.07565263],\n",
        "  [ 1.14244211,  1.20923158,  1.27602105,  1.34281053,  1.4096    ]])\n",
        "expected_velocity = np.asarray([\n",
        "  [ 0.5406,      0.55475789,  0.56891579, 0.58307368,  0.59723158],\n",
        "  [ 0.61138947,  0.62554737,  0.63970526,  0.65386316,  0.66802105],\n",
        "  [ 0.68217895,  0.69633684,  0.71049474,  0.72465263,  0.73881053],\n",
        "  [ 0.75296842,  0.76712632,  0.78128421,  0.79544211,  0.8096    ]])\n",
        "\n",
        "# Should see relative errors around e-8 or less\n",
        "print(\"next_w error: \", rel_error(next_w, expected_next_w))\n",
        "print(\"velocity error: \", rel_error(expected_velocity, config[\"velocity\"]))"
      ]
    },
    {
      "cell_type": "markdown",
      "id": "cc30c93e",
      "metadata": {
        "id": "cc30c93e"
      },
      "source": [
        "# MNIST\n",
        "MNIST is a widely used dataset of handwritten digits that contains 60,000 handwritten digits for training a machine learning model and 10,000 handwritten digits for testing the model."
      ]
    },
    {
      "cell_type": "code",
      "execution_count": 31,
      "id": "e3fa8400",
      "metadata": {
        "colab": {
          "base_uri": "https://localhost:8080/"
        },
        "id": "e3fa8400",
        "outputId": "26c8789e-13d4-4715-bacb-394db3ca57d2"
      },
      "outputs": [
        {
          "name": "stdout",
          "output_type": "stream",
          "text": [
            "Train data shape:  (50000, 784)\n",
            "Train labels shape:  (50000,)\n",
            "Validation data shape:  (10000, 784)\n",
            "Validation labels shape:  (10000,)\n",
            "Test data shape:  (10000, 784)\n",
            "Test labels shape:  (10000,)\n"
          ]
        }
      ],
      "source": [
        "X_train, y_train, X_val, y_val, X_test, y_test = get_MNIST_data()\n",
        "print('Train data shape: ', X_train.shape)\n",
        "print('Train labels shape: ', y_train.shape)\n",
        "print('Validation data shape: ', X_val.shape)\n",
        "print('Validation labels shape: ', y_val.shape)\n",
        "print('Test data shape: ', X_test.shape)\n",
        "print('Test labels shape: ', y_test.shape)"
      ]
    },
    {
      "cell_type": "code",
      "execution_count": 32,
      "id": "1e15a728",
      "metadata": {
        "colab": {
          "base_uri": "https://localhost:8080/",
          "height": 665
        },
        "id": "1e15a728",
        "outputId": "b1e322f2-b023-49d7-945c-82b3a4877644"
      },
      "outputs": [
        {
          "data": {
            "image/png": "[encoded data removed]",
            "text/plain": [
              "<Figure size 1000x800 with 70 Axes>"
            ]
          },
          "metadata": {},
          "output_type": "display_data"
        }
      ],
      "source": [
        "# Visualize some examples from the dataset.\n",
        "# We show a few examples of training images from each class.\n",
        "classes = list(range(10))\n",
        "num_classes = len(classes)\n",
        "samples_per_class = 7\n",
        "for y, cls in enumerate(classes):\n",
        "    idxs = np.flatnonzero(y_train == y)\n",
        "    idxs = np.random.choice(idxs, samples_per_class, replace=False)\n",
        "    for i, idx in enumerate(idxs):\n",
        "        plt_idx = i * num_classes + y + 1\n",
        "        plt.subplot(samples_per_class, num_classes, plt_idx)\n",
        "        plt.imshow(X_train[idx].reshape((28, 28)))\n",
        "        plt.axis('off')\n",
        "        if i == 0:\n",
        "            plt.title(cls)\n",
        "plt.show()"
      ]
    },
    {
      "cell_type": "markdown",
      "id": "ca6ad76a",
      "metadata": {
        "id": "ca6ad76a"
      },
      "source": [
        "Data normalization is an important step which ensures that each input parameter has a similar data distribution. This makes convergence faster while training the network."
      ]
    },
    {
      "cell_type": "code",
      "execution_count": 33,
      "id": "ea87dfbb",
      "metadata": {
        "id": "ea87dfbb"
      },
      "outputs": [],
      "source": [
        "X_train, X_val, X_test = get_normalized_MNIST_data(X_train, X_val, X_test)"
      ]
    },
    {
      "cell_type": "markdown",
      "id": "3ed0af35",
      "metadata": {
        "id": "3ed0af35"
      },
      "source": [
        "# Train a Good Model!\n",
        "Open the file `solver.py` and read through it to familiarize yourself with the API. After doing so, use a `Solver` instance to train the best fully connected model that you can on MNIST, storing your best model in the `MNIST_best_model` variable. We require you to get at least 95% accuracy on the validation set using a fully connected network."
      ]
    },
    {
      "cell_type": "code",
      "execution_count": null,
      "id": "5d59d748",
      "metadata": {
        "colab": {
          "base_uri": "https://localhost:8080/"
        },
        "id": "5d59d748",
        "outputId": "36f846d1-1fb0-4a44-d61a-af3cb5757843"
      },
      "outputs": [
        {
          "name": "stdout",
          "output_type": "stream",
          "text": [
            "(Iteration 1 / 8330) loss: 73.899519\n",
            "(Epoch 0 / 10) train acc: 0.074000; val_acc: 0.083500\n",
            "(Epoch 1 / 10) train acc: 0.929000; val_acc: 0.942300\n",
            "(Iteration 1001 / 8330) loss: 10.395162\n",
            "(Epoch 2 / 10) train acc: 0.964000; val_acc: 0.963400\n",
            "(Iteration 2001 / 8330) loss: 1.883662\n",
            "(Epoch 3 / 10) train acc: 0.969000; val_acc: 0.961600\n",
            "(Iteration 3001 / 8330) loss: 0.692965\n",
            "(Epoch 4 / 10) train acc: 0.976000; val_acc: 0.966700\n",
            "(Iteration 4001 / 8330) loss: 0.554108\n",
            "(Epoch 5 / 10) train acc: 0.965000; val_acc: 0.969500\n",
            "(Epoch 6 / 10) train acc: 0.974000; val_acc: 0.970300\n",
            "(Iteration 5001 / 8330) loss: 0.451836\n",
            "(Epoch 7 / 10) train acc: 0.968000; val_acc: 0.969400\n",
            "(Iteration 6001 / 8330) loss: 0.478796\n",
            "(Epoch 8 / 10) train acc: 0.982000; val_acc: 0.966100\n",
            "(Iteration 7001 / 8330) loss: 0.455924\n",
            "(Epoch 9 / 10) train acc: 0.981000; val_acc: 0.970500\n",
            "(Iteration 8001 / 8330) loss: 0.375483\n",
            "(Epoch 10 / 10) train acc: 0.980000; val_acc: 0.973300\n"
          ]
        }
      ],
      "source": [
        "MNIST_best_model = None\n",
        "\n",
        "################################################################################\n",
        "# TODO: Train the best FullyConnectedNet that you can on MNIST. You might      #\n",
        "# find batch normalization. Store your best model in                           #\n",
        "# the best_model variable.                                                     #\n",
        "################################################################################\n",
        "\n",
        "data = {\n",
        "    'X_train': X_train,\n",
        "    'y_train': y_train.astype(int),\n",
        "    'X_val': X_val,\n",
        "    'y_val': y_val.astype(int),\n",
        "    'X_test': X_test,\n",
        "    'y_test': y_test.astype(int)\n",
        "    }\n",
        "\n",
        "model = FullyConnectedNet(\n",
        "    # TODO\n",
        "    \"classification\",\n",
        "    [512,256, 128, 64,],\n",
        "    [True, True, True, True],\n",
        "    input_dim=784,\n",
        "    output_dim=10,\n",
        "    reg=0.1,\n",
        "    weight_scale=5e-2,\n",
        "    dtype=np.float64\n",
        ")\n",
        "solver = Solver(model, data,\n",
        "                update_rule=sgd_momentum,\n",
        "                optim_config={\n",
        "                  'learning_rate': 1e-3,\n",
        "                },\n",
        "                lr_decay=0.95,\n",
        "                num_epochs=10, batch_size=60,\n",
        "                print_every=1000)\n",
        "solver.train()\n",
        "\n",
        "MNIST_solver = solver\n",
        "MNIST_best_model = model"
      ]
    },
    {
      "cell_type": "code",
      "execution_count": 35,
      "id": "25f8a45b",
      "metadata": {
        "colab": {
          "base_uri": "https://localhost:8080/",
          "height": 1000
        },
        "id": "25f8a45b",
        "outputId": "2d24967c-cd1f-4472-aa20-46b2ad6e13b1"
      },
      "outputs": [
        {
          "data": {
            "image/png": "[encoded data removed]",
            "text/plain": [
              "<Figure size 1500x1200 with 2 Axes>"
            ]
          },
          "metadata": {},
          "output_type": "display_data"
        }
      ],
      "source": [
        "# Run this cell to visualize training loss and train / val accuracy\n",
        "\n",
        "plt.subplot(2, 1, 1)\n",
        "plt.title('Training loss')\n",
        "plt.plot(MNIST_solver.loss_history, 'o')\n",
        "plt.xlabel('Iteration')\n",
        "\n",
        "plt.subplot(2, 1, 2)\n",
        "plt.title('Accuracy')\n",
        "plt.plot(MNIST_solver.train_acc_history, '-o', label='train')\n",
        "plt.plot(MNIST_solver.val_acc_history, '-o', label='val')\n",
        "plt.plot([0.8] * len(MNIST_solver.val_acc_history), 'k--')\n",
        "plt.xlabel('Epoch')\n",
        "plt.legend(loc='lower right')\n",
        "plt.gcf().set_size_inches(15, 12)\n",
        "plt.show()"
      ]
    },
    {
      "cell_type": "markdown",
      "id": "19ff7e18",
      "metadata": {
        "id": "19ff7e18"
      },
      "source": [
        "# Test Your Model!\n",
        "Run your best model on the validation and test sets. You should achieve at least 95% accuracy on the validation set."
      ]
    },
    {
      "cell_type": "code",
      "execution_count": 36,
      "id": "3df244fa",
      "metadata": {
        "colab": {
          "base_uri": "https://localhost:8080/"
        },
        "id": "3df244fa",
        "outputId": "c829d10a-c802-4749-e25f-cc0c6324bde5"
      },
      "outputs": [
        {
          "name": "stdout",
          "output_type": "stream",
          "text": [
            "Validation set accuracy:  0.9733\n",
            "Test set accuracy:  0.9726\n"
          ]
        }
      ],
      "source": [
        "y_test_pred = np.argmax(MNIST_best_model.loss(data['X_test']), axis=1)\n",
        "y_val_pred = np.argmax(MNIST_best_model.loss(data['X_val']), axis=1)\n",
        "print('Validation set accuracy: ', (y_val_pred == data['y_val']).mean())\n",
        "print('Test set accuracy: ', (y_test_pred == data['y_test']).mean())"
      ]
    },
    {
      "cell_type": "markdown",
      "id": "5e9b7aa1",
      "metadata": {
        "id": "5e9b7aa1"
      },
      "source": [
        "# California housing dataset\n",
        "This is a dataset obtained from the [StatLib repository](https://www.dcc.fc.up.pt/~ltorgo/Regression/cal_housing.html). The data pertains to the houses found in a given California district and some summary stats about them based on the 1990 census data."
      ]
    },
    {
      "cell_type": "code",
      "execution_count": 37,
      "id": "b1ee041f",
      "metadata": {
        "colab": {
          "base_uri": "https://localhost:8080/",
          "height": 226
        },
        "id": "b1ee041f",
        "outputId": "377f7c7e-a1bc-4f4b-e62b-6935e80eeb78"
      },
      "outputs": [
        {
          "data": {
            "application/vnd.google.colaboratory.intrinsic+json": {
              "summary": "{\n  \"name\": \"california_housing\",\n  \"rows\": 5,\n  \"fields\": [\n    {\n      \"column\": \"MedInc\",\n      \"properties\": {\n        \"dtype\": \"number\",\n        \"std\": 1.9218775476080674,\n        \"min\": 3.8462,\n        \"max\": 8.3252,\n        \"num_unique_values\": 5,\n        \"samples\": [\n          8.3014,\n          3.8462,\n          7.2574\n        ],\n        \"semantic_type\": \"\",\n        \"description\": \"\"\n      }\n    },\n    {\n      \"column\": \"HouseAge\",\n      \"properties\": {\n        \"dtype\": \"number\",\n        \"std\": 13.501851724856113,\n        \"min\": 21.0,\n        \"max\": 52.0,\n        \"num_unique_values\": 3,\n        \"samples\": [\n          41.0,\n          21.0,\n          52.0\n        ],\n        \"semantic_type\": \"\",\n        \"description\": \"\"\n      }\n    },\n    {\n      \"column\": \"AveRooms\",\n      \"properties\": {\n        \"dtype\": \"number\",\n        \"std\": 0.9705323807243326,\n        \"min\": 5.8173515981735155,\n        \"max\": 8.288135593220339,\n        \"num_unique_values\": 5,\n        \"samples\": [\n          6.238137082601054,\n          6.281853281853282,\n          8.288135593220339\n        ],\n        \"semantic_type\": \"\",\n        \"description\": \"\"\n      }\n    },\n    {\n      \"column\": \"AveBedrms\",\n      \"properties\": {\n        \"dtype\": \"number\",\n        \"std\": 0.04661885487529508,\n        \"min\": 0.9718804920913884,\n        \"max\": 1.0810810810810811,\n        \"num_unique_values\": 5,\n        \"samples\": [\n          0.9718804920913884,\n          1.0810810810810811,\n          1.073446327683616\n        ],\n        \"semantic_type\": \"\",\n        \"description\": \"\"\n      }\n    },\n    {\n      \"column\": \"Population\",\n      \"properties\": {\n        \"dtype\": \"number\",\n        \"std\": 862.3365352343596,\n        \"min\": 322.0,\n        \"max\": 2401.0,\n        \"num_unique_values\": 5,\n        \"samples\": [\n          2401.0,\n          565.0,\n          496.0\n        ],\n        \"semantic_type\": \"\",\n        \"description\": \"\"\n      }\n    },\n    {\n      \"column\": \"AveOccup\",\n      \"properties\": {\n        \"dtype\": \"number\",\n        \"std\": 0.2881316535489867,\n        \"min\": 2.109841827768014,\n        \"max\": 2.8022598870056497,\n        \"num_unique_values\": 5,\n        \"samples\": [\n          2.109841827768014,\n          2.1814671814671813,\n          2.8022598870056497\n        ],\n        \"semantic_type\": \"\",\n        \"description\": \"\"\n      }\n    },\n    {\n      \"column\": \"Latitude\",\n      \"properties\": {\n        \"dtype\": \"number\",\n        \"std\": 0.0130384048104057,\n        \"min\": 37.85,\n        \"max\": 37.88,\n        \"num_unique_values\": 3,\n        \"samples\": [\n          37.88,\n          37.86,\n          37.85\n        ],\n        \"semantic_type\": \"\",\n        \"description\": \"\"\n      }\n    },\n    {\n      \"column\": \"Longitude\",\n      \"properties\": {\n        \"dtype\": \"number\",\n        \"std\": 0.013038404810404884,\n        \"min\": -122.25,\n        \"max\": -122.22,\n        \"num_unique_values\": 4,\n        \"samples\": [\n          -122.22,\n          -122.25,\n          -122.23\n        ],\n        \"semantic_type\": \"\",\n        \"description\": \"\"\n      }\n    },\n    {\n      \"column\": \"MedHouseVal\",\n      \"properties\": {\n        \"dtype\": \"number\",\n        \"std\": 0.4708973348830931,\n        \"min\": 3.413,\n        \"max\": 4.526,\n        \"num_unique_values\": 5,\n        \"samples\": [\n          3.585,\n          3.422,\n          3.521\n        ],\n        \"semantic_type\": \"\",\n        \"description\": \"\"\n      }\n    }\n  ]\n}",
              "type": "dataframe"
            },
            "text/html": [
              "\n",
              "  <div id=\"df-3c012650-652c-4db2-8fac-ee6c3b65568d\" class=\"colab-df-container\">\n",
              "    <div>\n",
              "<style scoped>\n",
              "    .dataframe tbody tr th:only-of-type {\n",
              "        vertical-align: middle;\n",
              "    }\n",
              "\n",
              "    .dataframe tbody tr th {\n",
              "        vertical-align: top;\n",
              "    }\n",
              "\n",
              "    .dataframe thead th {\n",
              "        text-align: right;\n",
              "    }\n",
              "</style>\n",
              "<table border=\"1\" class=\"dataframe\">\n",
              "  <thead>\n",
              "    <tr style=\"text-align: right;\">\n",
              "      <th></th>\n",
              "      <th>MedInc</th>\n",
              "      <th>HouseAge</th>\n",
              "      <th>AveRooms</th>\n",
              "      <th>AveBedrms</th>\n",
              "      <th>Population</th>\n",
              "      <th>AveOccup</th>\n",
              "      <th>Latitude</th>\n",
              "      <th>Longitude</th>\n",
              "      <th>MedHouseVal</th>\n",
              "    </tr>\n",
              "  </thead>\n",
              "  <tbody>\n",
              "    <tr>\n",
              "      <th>0</th>\n",
              "      <td>8.3252</td>\n",
              "      <td>41.0</td>\n",
              "      <td>6.984127</td>\n",
              "      <td>1.023810</td>\n",
              "      <td>322.0</td>\n",
              "      <td>2.555556</td>\n",
              "      <td>37.88</td>\n",
              "      <td>-122.23</td>\n",
              "      <td>4.526</td>\n",
              "    </tr>\n",
              "    <tr>\n",
              "      <th>1</th>\n",
              "      <td>8.3014</td>\n",
              "      <td>21.0</td>\n",
              "      <td>6.238137</td>\n",
              "      <td>0.971880</td>\n",
              "      <td>2401.0</td>\n",
              "      <td>2.109842</td>\n",
              "      <td>37.86</td>\n",
              "      <td>-122.22</td>\n",
              "      <td>3.585</td>\n",
              "    </tr>\n",
              "    <tr>\n",
              "      <th>2</th>\n",
              "      <td>7.2574</td>\n",
              "      <td>52.0</td>\n",
              "      <td>8.288136</td>\n",
              "      <td>1.073446</td>\n",
              "      <td>496.0</td>\n",
              "      <td>2.802260</td>\n",
              "      <td>37.85</td>\n",
              "      <td>-122.24</td>\n",
              "      <td>3.521</td>\n",
              "    </tr>\n",
              "    <tr>\n",
              "      <th>3</th>\n",
              "      <td>5.6431</td>\n",
              "      <td>52.0</td>\n",
              "      <td>5.817352</td>\n",
              "      <td>1.073059</td>\n",
              "      <td>558.0</td>\n",
              "      <td>2.547945</td>\n",
              "      <td>37.85</td>\n",
              "      <td>-122.25</td>\n",
              "      <td>3.413</td>\n",
              "    </tr>\n",
              "    <tr>\n",
              "      <th>4</th>\n",
              "      <td>3.8462</td>\n",
              "      <td>52.0</td>\n",
              "      <td>6.281853</td>\n",
              "      <td>1.081081</td>\n",
              "      <td>565.0</td>\n",
              "      <td>2.181467</td>\n",
              "      <td>37.85</td>\n",
              "      <td>-122.25</td>\n",
              "      <td>3.422</td>\n",
              "    </tr>\n",
              "  </tbody>\n",
              "</table>\n",
              "</div>\n",
              "    <div class=\"colab-df-buttons\">\n",
              "\n",
              "  <div class=\"colab-df-container\">\n",
              "    <button class=\"colab-df-convert\" onclick=\"convertToInteractive('df-3c012650-652c-4db2-8fac-ee6c3b65568d')\"\n",
              "            title=\"Convert this dataframe to an interactive table.\"\n",
              "            style=\"display:none;\">\n",
              "\n",
              "  <svg xmlns=\"http://www.w3.org/2000/svg\" height=\"24px\" viewBox=\"0 -960 960 960\">\n",
              "    <path d=\"M120-120v-720h720v720H120Zm60-500h600v-160H180v160Zm220 220h160v-160H400v160Zm0 220h160v-160H400v160ZM180-400h160v-160H180v160Zm440 0h160v-160H620v160ZM180-180h160v-160H180v160Zm440 0h160v-160H620v160Z\"/>\n",
              "  </svg>\n",
              "    </button>\n",
              "\n",
              "  <style>\n",
              "    .colab-df-container {\n",
              "      display:flex;\n",
              "      gap: 12px;\n",
              "    }\n",
              "\n",
              "    .colab-df-convert {\n",
              "      background-color: #E8F0FE;\n",
              "      border: none;\n",
              "      border-radius: 50%;\n",
              "      cursor: pointer;\n",
              "      display: none;\n",
              "      fill: #1967D2;\n",
              "      height: 32px;\n",
              "      padding: 0 0 0 0;\n",
              "      width: 32px;\n",
              "    }\n",
              "\n",
              "    .colab-df-convert:hover {\n",
              "      background-color: #E2EBFA;\n",
              "      box-shadow: 0px 1px 2px rgba(60, 64, 67, 0.3), 0px 1px 3px 1px rgba(60, 64, 67, 0.15);\n",
              "      fill: #174EA6;\n",
              "    }\n",
              "\n",
              "    .colab-df-buttons div {\n",
              "      margin-bottom: 4px;\n",
              "    }\n",
              "\n",
              "    [theme=dark] .colab-df-convert {\n",
              "      background-color: #3B4455;\n",
              "      fill: #D2E3FC;\n",
              "    }\n",
              "\n",
              "    [theme=dark] .colab-df-convert:hover {\n",
              "      background-color: #434B5C;\n",
              "      box-shadow: 0px 1px 3px 1px rgba(0, 0, 0, 0.15);\n",
              "      filter: drop-shadow(0px 1px 2px rgba(0, 0, 0, 0.3));\n",
              "      fill: #FFFFFF;\n",
              "    }\n",
              "  </style>\n",
              "\n",
              "    <script>\n",
              "      const buttonEl =\n",
              "        document.querySelector('#df-3c012650-652c-4db2-8fac-ee6c3b65568d button.colab-df-convert');\n",
              "      buttonEl.style.display =\n",
              "        google.colab.kernel.accessAllowed ? 'block' : 'none';\n",
              "\n",
              "      async function convertToInteractive(key) {\n",
              "        const element = document.querySelector('#df-3c012650-652c-4db2-8fac-ee6c3b65568d');\n",
              "        const dataTable =\n",
              "          await google.colab.kernel.invokeFunction('convertToInteractive',\n",
              "                                                    [key], {});\n",
              "        if (!dataTable) return;\n",
              "\n",
              "        const docLinkHtml = 'Like what you see? Visit the ' +\n",
              "          '<a target=\"_blank\" href=https://colab.research.google.com/notebooks/data_table.ipynb>data table notebook</a>'\n",
              "          + ' to learn more about interactive tables.';\n",
              "        element.innerHTML = '';\n",
              "        dataTable['output_type'] = 'display_data';\n",
              "        await google.colab.output.renderOutput(dataTable, element);\n",
              "        const docLink = document.createElement('div');\n",
              "        docLink.innerHTML = docLinkHtml;\n",
              "        element.appendChild(docLink);\n",
              "      }\n",
              "    </script>\n",
              "  </div>\n",
              "\n",
              "\n",
              "    <div id=\"df-8035057a-22f7-4721-9ab4-2478801128e9\">\n",
              "      <button class=\"colab-df-quickchart\" onclick=\"quickchart('df-8035057a-22f7-4721-9ab4-2478801128e9')\"\n",
              "                title=\"Suggest charts\"\n",
              "                style=\"display:none;\">\n",
              "\n",
              "<svg xmlns=\"http://www.w3.org/2000/svg\" height=\"24px\"viewBox=\"0 0 24 24\"\n",
              "     width=\"24px\">\n",
              "    <g>\n",
              "        <path d=\"M19 3H5c-1.1 0-2 .9-2 2v14c0 1.1.9 2 2 2h14c1.1 0 2-.9 2-2V5c0-1.1-.9-2-2-2zM9 17H7v-7h2v7zm4 0h-2V7h2v10zm4 0h-2v-4h2v4z\"/>\n",
              "    </g>\n",
              "</svg>\n",
              "      </button>\n",
              "\n",
              "<style>\n",
              "  .colab-df-quickchart {\n",
              "      --bg-color: #E8F0FE;\n",
              "      --fill-color: #1967D2;\n",
              "      --hover-bg-color: #E2EBFA;\n",
              "      --hover-fill-color: #174EA6;\n",
              "      --disabled-fill-color: #AAA;\n",
              "      --disabled-bg-color: #DDD;\n",
              "  }\n",
              "\n",
              "  [theme=dark] .colab-df-quickchart {\n",
              "      --bg-color: #3B4455;\n",
              "      --fill-color: #D2E3FC;\n",
              "      --hover-bg-color: #434B5C;\n",
              "      --hover-fill-color: #FFFFFF;\n",
              "      --disabled-bg-color: #3B4455;\n",
              "      --disabled-fill-color: #666;\n",
              "  }\n",
              "\n",
              "  .colab-df-quickchart {\n",
              "    background-color: var(--bg-color);\n",
              "    border: none;\n",
              "    border-radius: 50%;\n",
              "    cursor: pointer;\n",
              "    display: none;\n",
              "    fill: var(--fill-color);\n",
              "    height: 32px;\n",
              "    padding: 0;\n",
              "    width: 32px;\n",
              "  }\n",
              "\n",
              "  .colab-df-quickchart:hover {\n",
              "    background-color: var(--hover-bg-color);\n",
              "    box-shadow: 0 1px 2px rgba(60, 64, 67, 0.3), 0 1px 3px 1px rgba(60, 64, 67, 0.15);\n",
              "    fill: var(--button-hover-fill-color);\n",
              "  }\n",
              "\n",
              "  .colab-df-quickchart-complete:disabled,\n",
              "  .colab-df-quickchart-complete:disabled:hover {\n",
              "    background-color: var(--disabled-bg-color);\n",
              "    fill: var(--disabled-fill-color);\n",
              "    box-shadow: none;\n",
              "  }\n",
              "\n",
              "  .colab-df-spinner {\n",
              "    border: 2px solid var(--fill-color);\n",
              "    border-color: transparent;\n",
              "    border-bottom-color: var(--fill-color);\n",
              "    animation:\n",
              "      spin 1s steps(1) infinite;\n",
              "  }\n",
              "\n",
              "  @keyframes spin {\n",
              "    0% {\n",
              "      border-color: transparent;\n",
              "      border-bottom-color: var(--fill-color);\n",
              "      border-left-color: var(--fill-color);\n",
              "    }\n",
              "    20% {\n",
              "      border-color: transparent;\n",
              "      border-left-color: var(--fill-color);\n",
              "      border-top-color: var(--fill-color);\n",
              "    }\n",
              "    30% {\n",
              "      border-color: transparent;\n",
              "      border-left-color: var(--fill-color);\n",
              "      border-top-color: var(--fill-color);\n",
              "      border-right-color: var(--fill-color);\n",
              "    }\n",
              "    40% {\n",
              "      border-color: transparent;\n",
              "      border-right-color: var(--fill-color);\n",
              "      border-top-color: var(--fill-color);\n",
              "    }\n",
              "    60% {\n",
              "      border-color: transparent;\n",
              "      border-right-color: var(--fill-color);\n",
              "    }\n",
              "    80% {\n",
              "      border-color: transparent;\n",
              "      border-right-color: var(--fill-color);\n",
              "      border-bottom-color: var(--fill-color);\n",
              "    }\n",
              "    90% {\n",
              "      border-color: transparent;\n",
              "      border-bottom-color: var(--fill-color);\n",
              "    }\n",
              "  }\n",
              "</style>\n",
              "\n",
              "      <script>\n",
              "        async function quickchart(key) {\n",
              "          const quickchartButtonEl =\n",
              "            document.querySelector('#' + key + ' button');\n",
              "          quickchartButtonEl.disabled = true;  // To prevent multiple clicks.\n",
              "          quickchartButtonEl.classList.add('colab-df-spinner');\n",
              "          try {\n",
              "            const charts = await google.colab.kernel.invokeFunction(\n",
              "                'suggestCharts', [key], {});\n",
              "          } catch (error) {\n",
              "            console.error('Error during call to suggestCharts:', error);\n",
              "          }\n",
              "          quickchartButtonEl.classList.remove('colab-df-spinner');\n",
              "          quickchartButtonEl.classList.add('colab-df-quickchart-complete');\n",
              "        }\n",
              "        (() => {\n",
              "          let quickchartButtonEl =\n",
              "            document.querySelector('#df-8035057a-22f7-4721-9ab4-2478801128e9 button');\n",
              "          quickchartButtonEl.style.display =\n",
              "            google.colab.kernel.accessAllowed ? 'block' : 'none';\n",
              "        })();\n",
              "      </script>\n",
              "    </div>\n",
              "\n",
              "    </div>\n",
              "  </div>\n"
            ],
            "text/plain": [
              "   MedInc  HouseAge  AveRooms  AveBedrms  Population  AveOccup  Latitude  \\\n",
              "0  8.3252      41.0  6.984127   1.023810       322.0  2.555556     37.88   \n",
              "1  8.3014      21.0  6.238137   0.971880      2401.0  2.109842     37.86   \n",
              "2  7.2574      52.0  8.288136   1.073446       496.0  2.802260     37.85   \n",
              "3  5.6431      52.0  5.817352   1.073059       558.0  2.547945     37.85   \n",
              "4  3.8462      52.0  6.281853   1.081081       565.0  2.181467     37.85   \n",
              "\n",
              "   Longitude  MedHouseVal  \n",
              "0    -122.23        4.526  \n",
              "1    -122.22        3.585  \n",
              "2    -122.24        3.521  \n",
              "3    -122.25        3.413  \n",
              "4    -122.25        3.422  "
            ]
          },
          "execution_count": 37,
          "metadata": {},
          "output_type": "execute_result"
        }
      ],
      "source": [
        "california_housing = fetch_california_housing(as_frame=True)\n",
        "california_housing.frame.head()"
      ]
    },
    {
      "cell_type": "code",
      "execution_count": 38,
      "id": "bbc5ad10",
      "metadata": {
        "colab": {
          "base_uri": "https://localhost:8080/"
        },
        "id": "bbc5ad10",
        "outputId": "32890ad8-604c-4249-cfa3-64a913ab8b55"
      },
      "outputs": [
        {
          "name": "stdout",
          "output_type": "stream",
          "text": [
            "Train data shape:  (15640, 8)\n",
            "Train target values shape:  (15640, 1)\n",
            "Validation data shape:  (2500, 8)\n",
            "Validation target values shape:  (2500, 1)\n",
            "Test data shape:  (2500, 8)\n",
            "Test target values shape:  (2500, 1)\n"
          ]
        }
      ],
      "source": [
        "X_train, y_train, X_val, y_val, X_test, y_test = get_california_housing_data()\n",
        "y_train, y_val, y_test = y_train.reshape(-1, 1), y_val.reshape(-1, 1), y_test.reshape(-1, 1)\n",
        "print('Train data shape: ', X_train.shape)\n",
        "print('Train target values shape: ', y_train.shape)\n",
        "print('Validation data shape: ', X_val.shape)\n",
        "print('Validation target values shape: ', y_val.shape)\n",
        "print('Test data shape: ', X_test.shape)\n",
        "print('Test target values shape: ', y_test.shape)"
      ]
    },
    {
      "cell_type": "code",
      "execution_count": 39,
      "id": "30a1eeb3",
      "metadata": {
        "id": "30a1eeb3"
      },
      "outputs": [],
      "source": [
        "X_train, X_val, X_test = get_california_housing_normalized__data(X_train, X_val, X_test)"
      ]
    },
    {
      "cell_type": "markdown",
      "id": "a1179b5c",
      "metadata": {
        "id": "a1179b5c"
      },
      "source": [
        "# Train a Good Model!\n",
        "Train the best fully connected model that you can on california housing, storing your best model in the `california_housing_best_model` variable."
      ]
    },
    {
      "cell_type": "code",
      "execution_count": null,
      "id": "2fae7eca",
      "metadata": {
        "colab": {
          "base_uri": "https://localhost:8080/"
        },
        "id": "2fae7eca",
        "outputId": "8edcb259-b31d-4a68-ce70-87d5fcf522d1"
      },
      "outputs": [
        {
          "name": "stdout",
          "output_type": "stream",
          "text": [
            "(Iteration 1 / 390) loss: 3.415645\n",
            "(Epoch 0 / 5) train RMS error: 2.001841; val RMS error: 2.612617\n",
            "(Epoch 1 / 5) train RMS error: 1.234049; val RMS error: 1.697846\n",
            "(Iteration 101 / 390) loss: 1.442889\n",
            "(Epoch 2 / 5) train RMS error: 1.234951; val RMS error: 1.558167\n",
            "(Iteration 201 / 390) loss: 1.234702\n",
            "(Epoch 3 / 5) train RMS error: 1.188893; val RMS error: 1.519446\n",
            "(Iteration 301 / 390) loss: 1.132400\n",
            "(Epoch 4 / 5) train RMS error: 1.011925; val RMS error: 1.440800\n",
            "(Epoch 5 / 5) train RMS error: 0.943054; val RMS error: 1.428474\n"
          ]
        }
      ],
      "source": [
        "california_housing_best_model = None\n",
        "\n",
        "################################################################################\n",
        "# TODO: Train the best FullyConnectedNet that you can on california housing.   #\n",
        "# You might find batch normalization useful. Store your best model in          #\n",
        "# the best_model variable.                                                     #\n",
        "################################################################################\n",
        "\n",
        "data = {\n",
        "    'X_train': X_train,\n",
        "    'y_train': y_train.astype(int),\n",
        "    'X_val': X_val,\n",
        "    'y_val': y_val.astype(int),\n",
        "    'X_test': X_test,\n",
        "    'y_test': y_test.astype(int)\n",
        "    }\n",
        "\n",
        "model = FullyConnectedNet(\n",
        "    # TODO\n",
        "    \"regression\",\n",
        "    [8, 4, 2],\n",
        "    [True, True, False],\n",
        "    input_dim=8,\n",
        "    output_dim=1,\n",
        "    reg=0.1,\n",
        "    weight_scale=5e-2,\n",
        "    dtype=np.float64\n",
        ")\n",
        "solver = Solver(model, data,\n",
        "                update_rule=sgd_momentum,\n",
        "                optim_config={\n",
        "                  'learning_rate': 1e-3,\n",
        "                },\n",
        "                lr_decay=0.95,\n",
        "                num_epochs=5, batch_size=200,\n",
        "                print_every=100)\n",
        "solver.train()\n",
        "\n",
        "california_housing_solver = solver\n",
        "california_housing_best_model = model"
      ]
    },
    {
      "cell_type": "code",
      "execution_count": 41,
      "id": "43e51742",
      "metadata": {
        "colab": {
          "base_uri": "https://localhost:8080/",
          "height": 1000
        },
        "id": "43e51742",
        "outputId": "eafca336-a596-4792-e10f-ebd882a899f9"
      },
      "outputs": [
        {
          "data": {
            "image/png": "[encoded data removed]",
            "text/plain": [
              "<Figure size 1500x1200 with 2 Axes>"
            ]
          },
          "metadata": {},
          "output_type": "display_data"
        }
      ],
      "source": [
        "# Run this cell to visualize training loss and train / val RMS error\n",
        "\n",
        "plt.subplot(2, 1, 1)\n",
        "plt.title('Training loss')\n",
        "plt.plot(california_housing_solver.loss_history, 'o')\n",
        "plt.xlabel('Iteration')\n",
        "\n",
        "plt.subplot(2, 1, 2)\n",
        "plt.title('RMS Error')\n",
        "plt.plot(california_housing_solver.train_acc_history, '-o', label='train')\n",
        "plt.plot(california_housing_solver.val_acc_history, '-o', label='val')\n",
        "plt.xlabel('Epoch')\n",
        "plt.legend(loc='lower right')\n",
        "plt.gcf().set_size_inches(15, 12)\n",
        "plt.show()"
      ]
    }
  ],
  "metadata": {
    "colab": {
      "collapsed_sections": [
        "8e64b312",
        "6171f37c",
        "b0f2e4d2",
        "9aa4e6a8",
        "1eb8d7a7",
        "0bd6b07f",
        "07719acb",
        "a9227f7e",
        "31d4492a",
        "71a7bb75",
        "5e9b7aa1"
      ],
      "provenance": []
    },
    "kernelspec": {
      "display_name": ".venv",
      "language": "python",
      "name": "python3"
    },
    "language_info": {
      "codemirror_mode": {
        "name": "ipython",
        "version": 3
      },
      "file_extension": ".py",
      "mimetype": "text/x-python",
      "name": "python",
      "nbconvert_exporter": "python",
      "pygments_lexer": "ipython3",
      "version": "3.13.5"
    }
  },
  "nbformat": 4,
  "nbformat_minor": 5
}
