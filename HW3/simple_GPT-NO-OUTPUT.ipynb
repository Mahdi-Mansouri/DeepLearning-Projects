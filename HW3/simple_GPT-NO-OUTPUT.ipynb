{
  "cells": [
    {
      "cell_type": "markdown",
      "metadata": {
        "id": "FPKdecJfx6nr"
      },
      "source": [
        "# SimpleGPT\n",
        "\n",
        "The objective of this notebook is to create and train a decoder-only model, which is a custom and scaled-down version of GPT, using the specified dataset.\n",
        "\n"
      ]
    },
    {
      "cell_type": "markdown",
      "metadata": {
        "id": "TmDJ5RdJpJX3"
      },
      "source": [
        "### Import Libraries"
      ]
    },
    {
      "cell_type": "code",
      "execution_count": null,
      "metadata": {
        "id": "dfztaXelrAjB"
      },
      "outputs": [],
      "source": [
        "# Import necessary libraries for data manipulation\n",
        "import pandas as pd\n",
        "import numpy as np\n",
        "\n",
        "# Import PyTorch and submodules for neural network construction and operations\n",
        "import torch\n",
        "import torch.nn as nn\n",
        "from torch.nn import functional as F"
      ]
    },
    {
      "cell_type": "markdown",
      "metadata": {
        "id": "74cxkR23o-Rq"
      },
      "source": [
        "### Download dataset"
      ]
    },
    {
      "cell_type": "code",
      "execution_count": null,
      "metadata": {
        "colab": {
          "base_uri": "https://localhost:8080/"
        },
        "id": "xEXE-Xszqw46",
        "outputId": "4bd2c985-e98d-4ac2-9bd2-61ceb2981b44"
      },
      "outputs": [],
      "source": [
        "!wget https://raw.githubusercontent.com/rfordatascience/tidytuesday/master/data/2020/2020-09-08/friends.csv"
      ]
    },
    {
      "cell_type": "markdown",
      "metadata": {
        "id": "PvxCSyzlpbfs"
      },
      "source": [
        "## Hyperparameters"
      ]
    },
    {
      "cell_type": "code",
      "execution_count": null,
      "metadata": {
        "colab": {
          "base_uri": "https://localhost:8080/"
        },
        "id": "rlT1e6J8NxDd",
        "outputId": "ac2a8391-c59c-4c92-8952-f3feead00fb6"
      },
      "outputs": [],
      "source": [
        "batch_size = 16\n",
        "block_size = 32\n",
        "max_iters = 5000\n",
        "eval_interval = 100\n",
        "learning_rate = 1e-3\n",
        "eval_iters = 200\n",
        "\n",
        "n_embd = 64\n",
        "n_head = 4\n",
        "n_layer = 4\n",
        "\n",
        "device = 'cuda' if torch.cuda.is_available() else 'cpu'\n",
        "torch.manual_seed(1337)\n"
      ]
    },
    {
      "cell_type": "markdown",
      "metadata": {
        "id": "ciQtkU4spQIA"
      },
      "source": [
        "## Preparing dateset"
      ]
    },
    {
      "cell_type": "code",
      "execution_count": null,
      "metadata": {
        "colab": {
          "base_uri": "https://localhost:8080/",
          "height": 206
        },
        "id": "LnC75YdYIFVv",
        "outputId": "cb4c8c13-3d24-4212-cdea-bc3438110847"
      },
      "outputs": [],
      "source": [
        "friends_df = pd.read_csv('friends.csv')\n",
        "friends_df.head()"
      ]
    },
    {
      "cell_type": "code",
      "execution_count": null,
      "metadata": {
        "colab": {
          "base_uri": "https://localhost:8080/",
          "height": 206
        },
        "id": "k-f3eh9aJ-lI",
        "outputId": "325ea75c-18d4-40b7-ec8d-b7c743e51914"
      },
      "outputs": [],
      "source": [
        "# Select relevant columns and perform cleaning in a chained manner\n",
        "friends_df = (\n",
        "    friends_df[['speaker', 'text']]\n",
        "    .loc[~friends_df['speaker'].str.contains('Scene', na=False)]\n",
        "    .copy()\n",
        ")\n",
        "friends_df['speaker'] = friends_df['speaker'].apply(lambda sp: sp.lower().capitalize().split(' ')[0])\n",
        "\n",
        "friends_df.head()\n"
      ]
    },
    {
      "cell_type": "code",
      "execution_count": null,
      "metadata": {
        "colab": {
          "base_uri": "https://localhost:8080/"
        },
        "id": "xP9TzA7BqwlZ",
        "outputId": "2009af90-b3cc-476b-9cdc-4a9d1a278b2c"
      },
      "outputs": [],
      "source": [
        "# Generate the dataset text\n",
        "text = '\\n\\n'.join(f\"{row['speaker']}:\\n{row['text']}\" for _, row in friends_df.iterrows())\n",
        "print(\"Length of dataset in characters:\", len(text))\n"
      ]
    },
    {
      "cell_type": "code",
      "execution_count": null,
      "metadata": {
        "colab": {
          "base_uri": "https://localhost:8080/"
        },
        "id": "2c5V0FvqseE0",
        "outputId": "889aaac0-0e72-4e56-9e76-bcfe4b7f1e9d"
      },
      "outputs": [],
      "source": [
        "# Print the first 1000 characters of the dataset text\n",
        "print(text[:1000])"
      ]
    },
    {
      "cell_type": "code",
      "execution_count": null,
      "metadata": {
        "id": "oLYd4qOGN04D"
      },
      "outputs": [],
      "source": [
        "# Create a vocabulary and encode/decode functions\n",
        "chars = sorted(list(set(text)))\n",
        "vocab_size = len(chars)\n",
        "char_to_id = {ch: i for i, ch in enumerate(chars)}\n",
        "id_to_char = {i: ch for ch, i in char_to_id.items()} # Inverted dictionary\n",
        "\n",
        "def encode(string):\n",
        "    return [char_to_id[char] for char in string]\n",
        "\n",
        "def decode(ids):\n",
        "    return ''.join(id_to_char[id] for id in ids)\n"
      ]
    },
    {
      "cell_type": "code",
      "execution_count": null,
      "metadata": {
        "colab": {
          "base_uri": "https://localhost:8080/"
        },
        "id": "-X_Pb0b7N225",
        "outputId": "60f1a3d1-203b-47c6-e194-b84edf65c2cd"
      },
      "outputs": [],
      "source": [
        "# Prepare the data for model training\n",
        "data = torch.tensor(encode(text), dtype=torch.long)\n",
        "split_point = int(0.9 * len(data))\n",
        "train_data = data[:split_point]\n",
        "val_data = data[split_point:]\n",
        "\n",
        "# Display information about the prepared data\n",
        "print(f\"Vocabulary Size: {vocab_size}\")\n",
        "print(f\"Training Data Length: {len(train_data)}\")\n",
        "print(f\"Validation Data Length: {len(val_data)}\")\n"
      ]
    },
    {
      "cell_type": "markdown",
      "metadata": {
        "id": "n4FsOCySpw95"
      },
      "source": [
        "## Utils"
      ]
    },
    {
      "cell_type": "code",
      "execution_count": null,
      "metadata": {
        "id": "Wu21-_C1KPjM"
      },
      "outputs": [],
      "source": [
        "def get_random_batch(data_source, block_size, batch_size):\n",
        "    \"\"\"\n",
        "    Generates a random batch of input and label tensors from the data source.\n",
        "    \"\"\"\n",
        "    indices = torch.randint(len(data_source) - block_size, (batch_size,))\n",
        "    inputs = torch.stack([data_source[i:i+block_size] for i in indices]).to(device)\n",
        "    labels = torch.stack([data_source[i+1:i+block_size+1] for i in indices]).to(device)\n",
        "    return inputs, labels\n",
        "\n",
        "@torch.no_grad()\n",
        "def evaluate_loss(model, data_sources, block_size, batch_size, eval_iters):\n",
        "    \"\"\"\n",
        "    Estimates the model's loss on different data splits.\n",
        "    \"\"\"\n",
        "    model.eval()\n",
        "    losses = {}\n",
        "    for split, data_source in data_sources.items():\n",
        "        loss_list = torch.zeros(eval_iters)\n",
        "        for k in range(eval_iters):\n",
        "            X, Y = get_random_batch(data_source, block_size, batch_size)\n",
        "            _, loss = model(X, Y)\n",
        "            loss_list[k] = loss.item()\n",
        "        losses[split] = loss_list.mean()\n",
        "    model.train()\n",
        "    return losses\n",
        "\n",
        "def generate_text(model, initial_idx, block_size, max_new_tokens):\n",
        "    \"\"\"\n",
        "    Generates text by sampling from the model's predictions.\n",
        "    \"\"\"\n",
        "    idx = initial_idx\n",
        "    model.eval()\n",
        "    for _ in range(max_new_tokens):\n",
        "        idx_cond = idx[:, -block_size:]\n",
        "        logits, _ = model(idx_cond)\n",
        "        probs = F.softmax(logits[:, -1, :], dim=-1)\n",
        "        idx_next = torch.multinomial(probs, num_samples=1)\n",
        "        idx = torch.cat((idx, idx_next), dim=1)\n",
        "    model.train()\n",
        "    return idx\n",
        "\n",
        "def train_step(model, optimizer, train_data, block_size, batch_size):\n",
        "    \"\"\"Performs a single training step.\"\"\"\n",
        "    inputs, labels = get_random_batch(train_data, block_size, batch_size)\n",
        "    optimizer.zero_grad(set_to_none=True)\n",
        "    _, loss = model(inputs, labels)\n",
        "    loss.backward()\n",
        "    optimizer.step()\n",
        "    return loss\n",
        "\n",
        "def train_model(model, train_data, val_data, block_size, batch_size, max_iters, eval_interval, optimizer):\n",
        "    \"\"\"\n",
        "    Trains the model on the training data and evaluates it on the validation data.\n",
        "    \"\"\"\n",
        "    data_sources = {'train': train_data, 'val': val_data}\n",
        "    for iteration in range(max_iters):\n",
        "        if iteration % eval_interval == 0 or iteration == max_iters - 1:\n",
        "            losses = evaluate_loss(model, data_sources, block_size, batch_size, eval_iters)\n",
        "            print(f\"Iteration {iteration}: Train Loss {losses['train']:.4f}, Val Loss {losses['val']:.4f}\")\n",
        "\n",
        "        train_step(model, optimizer, train_data, block_size, batch_size)\n",
        "\n",
        "    return model\n"
      ]
    },
    {
      "cell_type": "markdown",
      "metadata": {
        "id": "tWnjEfO6p6rr"
      },
      "source": [
        "# Model architecture"
      ]
    },
    {
      "cell_type": "markdown",
      "metadata": {
        "id": "6Im5cAsEEFIY"
      },
      "source": [
        "The Generative Pre-trained Transformer (GPT) model represents a significant breakthrough in the field of natural language processing (NLP) and beyond, thanks to its ability to generate human-like text based on the input it receives. Its architecture is based on the Transformer model, which allows it to effectively capture the context and semantics of the input text over long distances, making it particularly adept at tasks such as language modeling, text generation, and even complex reasoning tasks.\n",
        "\n",
        "Here's a brief overview of the decoder-only architecture(like GPT) and steps we follow to implement its components:\n",
        "\n",
        "## 1. Understanding the Transformer Block\n",
        "\n",
        "The core of the decoder-only architecture is the Transformer block, which consists of two main components: multi-head self-attention and position-wise feed-forward networks. Each block applies these components in sequence, each followed by layer normalization and a residual connection.\n",
        "\n",
        "\n",
        "*   **Multi-Head Self-Attention:** This mechanism allows the model to weigh the importance of different words in the input sequence differently, providing a dynamic way to aggregate context from the entire sequence.\n",
        "\n",
        "![MHSA](https://miro.medium.com/v2/resize:fit:720/format:webp/1*PiZyU-_J_nWixsTjXOUP7Q.png)\n",
        "\n",
        "*   **Position-wise Feed-Forward Networks:** These are simple, fully connected neural networks applied to each position separately and identically. This means they look at each word (or token) in isolation and then transform it.\n",
        "\n",
        "## 2. Understanding the whole architecture\n",
        "To build a decode-only architecture, we would generally follow these steps:\n",
        "\n",
        "\n",
        "\n",
        "*   **Embedding Layer:** This is where the model learns representations for each token in the vocabulary and for each possible position in the input sequence. The embeddings for tokens and their positions are summed to produce a single representation for each token that captures both its meaning and its position in the sequence.\n",
        "\n",
        "*   **Stack of Transformer Blocks:** The heart of the model. Several Transformer blocks are stacked on top of each other to allow the model to learn complex relationships between tokens in the input sequence. Each block includes multi-head self-attention and feed-forward networks, as explained above.\n",
        "\n",
        "*   **Output Layer:** After passing through the Transformer blocks, the output is normalized and then passed through a linear layer that projects it back to the size of the vocabulary. This produces a set of logits that can be used, with a softmax layer, to generate probabilities for each token in the vocabulary being the next token in the sequence.\n",
        "\n",
        "![](https://miro.medium.com/v2/resize:fit:700/0*77memcl1VYIdpE8f.png)\n",
        "\n",
        "\n",
        "\n",
        "\n",
        "\n",
        "\n",
        "---\n",
        "Now for implementing SimpleGPT model we should code the components described above. Here's a approach to doing so:\n",
        "\n",
        "\n",
        "1.   **SelfAttentionHead:** Implement the self-attention mechanism with key, query, and value projections. Apply masking to ignore future tokens in the sequence when calculating attention scores.\n",
        "2.   **MultiHeadSelfAttention:** Aggregate multiple self-attention heads, allowing the model to focus on different parts of the input sequence simultaneously.\n",
        "3.   **FeedForward:** Implement the position-wise feed-forward network with a simple sequence of linear layers and activation functions.\n",
        "4.   **TransformerBlock:** Combine the multi-head self-attention and feed-forward network, adding normalization and residual connections around each.\n",
        "5.   **SimpleGPT:** Assemble the model by starting with embedding layers for tokens and positions, stacking several Transformer blocks, and then adding the output layer to produce logits.\n"
      ]
    },
    {
      "cell_type": "markdown",
      "metadata": {
        "id": "EzHTTdxvqH1s"
      },
      "source": [
        "## Transformer block"
      ]
    },
    {
      "cell_type": "code",
      "execution_count": null,
      "metadata": {
        "id": "87TGFQqFN-g2"
      },
      "outputs": [],
      "source": [
        "class SelfAttentionHead(nn.Module):\n",
        "    \"\"\"A single head of self-attention.\"\"\"\n",
        "    def __init__(self, n_embd, head_size):\n",
        "        super().__init__()\n",
        "        self.key = nn.Linear(n_embd, head_size, bias=False)\n",
        "        self.query = nn.Linear(n_embd, head_size, bias=False)\n",
        "        self.value = nn.Linear(n_embd, head_size, bias=False)\n",
        "        self.register_buffer('tril', torch.tril(torch.ones(block_size, block_size)))\n",
        "\n",
        "    def forward(self, x):\n",
        "        B, T, C = x.shape\n",
        "        k = self.key(x)\n",
        "        q = self.query(x)\n",
        "\n",
        "        wei = q @ k.transpose(-2, -1) * C**-0.5\n",
        "        wei = wei.masked_fill(self.tril[:T, :T] == 0, float('-inf'))\n",
        "        wei = F.softmax(wei, dim=-1)\n",
        "\n",
        "        v = self.value(x)\n",
        "        out = wei @ v\n",
        "        return out\n",
        "\n",
        "class MultiHeadSelfAttention(nn.Module):\n",
        "    \"\"\"Multi-head self-attention module.\"\"\"\n",
        "    def __init__(self, num_heads, n_embd, head_size):\n",
        "        super().__init__()\n",
        "        self.heads = nn.ModuleList([SelfAttentionHead(n_embd, head_size) for _ in range(num_heads)])\n",
        "        self.proj = nn.Linear(n_embd, n_embd)\n",
        "\n",
        "    def forward(self, x):\n",
        "        out = torch.cat([h(x) for h in self.heads], dim=-1)\n",
        "        out = self.proj(out)\n",
        "        return out\n",
        "\n",
        "class FeedForward(nn.Module):\n",
        "    \"\"\"A simple linear layer followed by a non-linearity.\"\"\"\n",
        "    def __init__(self, n_embd):\n",
        "        super().__init__()\n",
        "        self.net = nn.Sequential(\n",
        "            nn.Linear(n_embd, 4 * n_embd),\n",
        "            nn.ReLU(),\n",
        "            nn.Linear(4 * n_embd, n_embd),\n",
        "        )\n",
        "\n",
        "    def forward(self, x):\n",
        "        return self.net(x)\n"
      ]
    },
    {
      "cell_type": "code",
      "execution_count": null,
      "metadata": {
        "id": "luJq9Za7osBU"
      },
      "outputs": [],
      "source": [
        "class TransformerBlock(nn.Module):\n",
        "    \"\"\"Transformer block: communication followed by computation.\"\"\"\n",
        "    def __init__(self, n_embd, n_head):\n",
        "        super().__init__()\n",
        "        head_size = n_embd // n_head\n",
        "        self.sa = MultiHeadSelfAttention(n_head, n_embd, head_size)\n",
        "        self.ffwd = FeedForward(n_embd)\n",
        "        self.ln1 = nn.LayerNorm(n_embd)\n",
        "        self.ln2 = nn.LayerNorm(n_embd)\n",
        "\n",
        "    def forward(self, x):\n",
        "        x = x + self.sa(self.ln1(x))\n",
        "        x = x + self.ffwd(self.ln2(x))\n",
        "        return x\n"
      ]
    },
    {
      "cell_type": "markdown",
      "metadata": {
        "id": "5FjyRYGsqQ8h"
      },
      "source": [
        "## Model"
      ]
    },
    {
      "cell_type": "code",
      "execution_count": null,
      "metadata": {
        "id": "hoelkOrFY8bN"
      },
      "outputs": [],
      "source": [
        "class SimpleGPT(nn.Module):\n",
        "    \"\"\"SimpleGPT model for sequence generation tasks.\"\"\"\n",
        "    def __init__(self, vocab_size, n_embd, block_size, n_layer, n_head):\n",
        "        super().__init__()\n",
        "        self.block_size = block_size\n",
        "        self.token_embedding_table = nn.Embedding(vocab_size, n_embd)\n",
        "        self.position_embedding_table = nn.Embedding(block_size, n_embd)\n",
        "        self.blocks = nn.Sequential(*[TransformerBlock(n_embd, n_head=n_head) for _ in range(n_layer)])\n",
        "        self.ln_f = nn.LayerNorm(n_embd)\n",
        "        self.lm_head = nn.Linear(n_embd, vocab_size)\n",
        "\n",
        "    def forward(self, idx, targets=None):\n",
        "        B, T = idx.shape\n",
        "        tok_emb = self.token_embedding_table(idx)\n",
        "        pos_emb = self.position_embedding_table(torch.arange(T, device=device))\n",
        "        x = tok_emb + pos_emb\n",
        "        x = self.blocks(x)\n",
        "        x = self.ln_f(x)\n",
        "        logits = self.lm_head(x)\n",
        "\n",
        "        loss = None\n",
        "        if targets is not None:\n",
        "            B, T, C = logits.shape\n",
        "            logits_view = logits.view(B*T, C)\n",
        "            targets_view = targets.view(B*T)\n",
        "            loss = F.cross_entropy(logits_view, targets_view)\n",
        "\n",
        "        return logits, loss\n"
      ]
    },
    {
      "cell_type": "code",
      "execution_count": null,
      "metadata": {
        "colab": {
          "base_uri": "https://localhost:8080/"
        },
        "id": "YbS3pJH0RL65",
        "outputId": "9becc4bc-06ab-4c4b-be08-8c4da6b22655"
      },
      "outputs": [],
      "source": [
        "# Initialize the model and move it to the appropriate device\n",
        "model = SimpleGPT(vocab_size, n_embd, block_size, n_layer, n_head).to(device)\n",
        "\n",
        "# Calculate the number of parameters in the model\n",
        "num_parameters = sum(p.numel() for p in model.parameters())\n",
        "print(f'Number of parameters = {num_parameters}')\n"
      ]
    },
    {
      "cell_type": "code",
      "execution_count": null,
      "metadata": {
        "colab": {
          "base_uri": "https://localhost:8080/"
        },
        "id": "45LGegT3W86c",
        "outputId": "07ecbd75-7715-4e1f-baac-355ac4dae429"
      },
      "outputs": [],
      "source": [
        "# Print the model structure\n",
        "print(model)"
      ]
    },
    {
      "cell_type": "markdown",
      "metadata": {
        "id": "GE4lP5yNqY62"
      },
      "source": [
        "# Training and Evaluation the Model"
      ]
    },
    {
      "cell_type": "code",
      "execution_count": null,
      "metadata": {
        "id": "sE0Oh1-qO4NP"
      },
      "outputs": [],
      "source": [
        "def generate_text(model, initial_idx, block_size, max_new_tokens):\n",
        "    \"\"\"\n",
        "    Generates text by sampling from the model's predictions.\n",
        "    \"\"\"\n",
        "    idx = initial_idx\n",
        "    model.eval()\n",
        "    for _ in range(max_new_tokens):\n",
        "        idx_cond = idx[:, -block_size:]\n",
        "        logits, _ = model(idx_cond)\n",
        "        probs = F.softmax(logits[:, -1, :], dim=-1)\n",
        "        idx_next = torch.multinomial(probs, num_samples=1)\n",
        "        idx = torch.cat((idx, idx_next), dim=1)\n",
        "    model.train()\n",
        "    return idx"
      ]
    },
    {
      "cell_type": "code",
      "execution_count": null,
      "metadata": {
        "colab": {
          "base_uri": "https://localhost:8080/"
        },
        "id": "8Ij6iV37ROZo",
        "outputId": "fdf987c7-3343-4f8c-9d63-b7c178f574fc"
      },
      "outputs": [],
      "source": [
        "# Example of generating output with the initial model (before training)\n",
        "initial_idx = torch.zeros((1, 1), dtype=torch.long, device=device)\n",
        "generated_output = generate_text(model, initial_idx, block_size, max_new_tokens=2000)\n",
        "decoded_output = decode(generated_output[0].tolist())\n",
        "print(decoded_output)\n"
      ]
    },
    {
      "cell_type": "code",
      "execution_count": null,
      "metadata": {
        "colab": {
          "base_uri": "https://localhost:8080/"
        },
        "id": "u1524iCrPffs",
        "outputId": "f7db7add-414c-46c3-b928-0a885456c08e"
      },
      "outputs": [],
      "source": [
        "# training\n",
        "optimizer = torch.optim.AdamW(model.parameters(), lr=learning_rate)\n",
        "trained_model = train_model(model, train_data, val_data, block_size, batch_size, max_iters, eval_interval, optimizer)\n"
      ]
    },
    {
      "cell_type": "code",
      "execution_count": null,
      "metadata": {
        "colab": {
          "base_uri": "https://localhost:8080/"
        },
        "id": "GvjP74BOwFrZ",
        "outputId": "cab90674-a227-4c5e-b3c5-f9f576e6c352"
      },
      "outputs": [],
      "source": [
        "# Example of generating output with the trained model\n",
        "context = torch.zeros((1, 1), dtype=torch.long, device=device)\n",
        "generated_output = generate_text(trained_model, context, block_size, max_new_tokens=2000)\n",
        "decoded_output = decode(generated_output[0].tolist())\n",
        "print(decoded_output)\n"
      ]
    }
  ],
  "metadata": {
    "accelerator": "GPU",
    "colab": {
      "gpuType": "T4",
      "provenance": []
    },
    "kernelspec": {
      "display_name": "Python 3",
      "name": "python3"
    },
    "language_info": {
      "codemirror_mode": {
        "name": "ipython",
        "version": 3
      },
      "file_extension": ".py",
      "mimetype": "text/x-python",
      "name": "python",
      "nbconvert_exporter": "python",
      "pygments_lexer": "ipython3",
      "version": "3.11.5"
    }
  },
  "nbformat": 4,
  "nbformat_minor": 0
}
